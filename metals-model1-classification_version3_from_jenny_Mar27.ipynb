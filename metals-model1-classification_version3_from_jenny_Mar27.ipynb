{
  "metadata": {
    "kernelspec": {
      "language": "python",
      "display_name": "Python 3",
      "name": "python3"
    },
    "language_info": {
      "name": "python",
      "version": "3.7.12",
      "mimetype": "text/x-python",
      "codemirror_mode": {
        "name": "ipython",
        "version": 3
      },
      "pygments_lexer": "ipython3",
      "nbconvert_exporter": "python",
      "file_extension": ".py"
    },
    "colab": {
      "name": "metals-model1-classification.ipynb",
      "provenance": [],
      "include_colab_link": true
    }
  },
  "nbformat_minor": 0,
  "nbformat": 4,
  "cells": [
    {
      "cell_type": "markdown",
      "metadata": {
        "id": "view-in-github",
        "colab_type": "text"
      },
      "source": [
        "<a href=\"https://colab.research.google.com/github/HarryLatThinkCerca/ExploreData/blob/main/metals-model1-classification_version3_from_jenny_Mar27.ipynb\" target=\"_parent\"><img src=\"https://colab.research.google.com/assets/colab-badge.svg\" alt=\"Open In Colab\"/></a>"
      ]
    },
    {
      "cell_type": "markdown",
      "source": [
        "# Model1 Classification Version 3\n",
        "- updated on 3/27 by Jenny Song\n",
        "<br></br>\n",
        "- (*new) used all data from 6 groups\n",
        "<br></br>\n",
        "- (*new) pre-computed features to speed up training time\n",
        "<br></br>\n",
        "- (*new) embed tensorboard to kaggle notebook \n",
        "<br></br>\n",
        "- validation evaluation for each rurbic item at each epoch: \n",
        "    - confusion matrix \n",
        "    - agreement accuracy\n",
        "    - (*new) adjacent accuracy\n",
        "<br></br>  \n",
        "- classification\n",
        "    - use Cross Entropy loss\n",
        "    - top-1 accuracy metric\n",
        "<br></br>     \n",
        "- model\n",
        "    - bert\n",
        "    - (*new) roberta\n",
        "    - (*new) t5"
      ],
      "metadata": {
        "id": "-4S7L_XczdEf"
      }
    },
    {
      "cell_type": "code",
      "source": [
        "# This Python 3 environment comes with many helpful analytics libraries installed\n",
        "# It is defined by the kaggle/python Docker image: https://github.com/kaggle/docker-python\n",
        "# For example, here's several helpful packages to load\n",
        "import numpy as np # linear algebra\n",
        "import pandas as pd # data processing, CSV file I/O (e.g. pd.read_csv)\n",
        "\n",
        "# Input data files are available in the read-only \"../input/\" directory\n",
        "# For example, running this (by clicking run or pressing Shift+Enter) will list all files under the input directory\n",
        "\n",
        "import os\n",
        "for dirname, _, filenames in os.walk('/kaggle/input/thinkcerca'):\n",
        "    for filename in filenames:\n",
        "        print(os.path.join(dirname, filename))\n",
        "\n",
        "# You can write up to 20GB to the current directory (/kaggle/working/) that gets preserved as output when you create a version using \"Save & Run All\" \n",
        "# You can also write temporary files to /kaggle/temp/, but they won't be saved outside of the current session"
      ],
      "metadata": {
        "_uuid": "8f2839f25d086af736a60e9eeb907d3b93b6e0e5",
        "_cell_guid": "b1076dfc-b9ad-4769-8c92-a6c4dae69d19",
        "execution": {
          "iopub.status.busy": "2022-03-27T23:06:58.300242Z",
          "iopub.execute_input": "2022-03-27T23:06:58.300531Z",
          "iopub.status.idle": "2022-03-27T23:06:58.313123Z",
          "shell.execute_reply.started": "2022-03-27T23:06:58.300500Z",
          "shell.execute_reply": "2022-03-27T23:06:58.312348Z"
        },
        "trusted": true,
        "id": "dW-Ug1mFzdEi",
        "outputId": "8fd4809c-c6a3-417a-b3c4-ca3d4cec31cb"
      },
      "execution_count": null,
      "outputs": [
        {
          "name": "stdout",
          "text": "/kaggle/input/thinkcerca/group_6_final_writing_for_lesson_25979.xlsx - Result 1.csv\n/kaggle/input/thinkcerca/Group_2_8492_rubric_scores_for_lesson_id_24096_fixed.xlsx - Result 1.csv\n/kaggle/input/thinkcerca/group_3_final_writing_for_lesson_20846.xlsx - Result 1.csv\n/kaggle/input/thinkcerca/Group_5_all_rubric_scores_group_5_lesson_25494_7176_scores.xlsx - Result 1.csv\n/kaggle/input/thinkcerca/group_4_final_writing_for_lesson_24713.xlsx - Result 1.csv\n/kaggle/input/thinkcerca/group_2_final_writing_lesson_24096.xlsx - Result 1.csv\n/kaggle/input/thinkcerca/group_1_final_writing_for_lesson_26025.xlsx - Result 1.csv\n/kaggle/input/thinkcerca/group_5_final_writing_for_lesson_25494.xlsx - Result 1.csv\n/kaggle/input/thinkcerca/Group_6_25979_rubric_scores_8091_total_scores.xlsx - Result 1.csv\n/kaggle/input/thinkcerca/Group_4_lesson_24713_8636_rubric_scores.xlsx - Result 1.csv\n/kaggle/input/thinkcerca/Group_3_all_10182_rubric_scores_lesson20846.xlsx - Result 1.csv\n/kaggle/input/thinkcerca/Group_1_all_rubric_subscores_26025_14757_scores.xlsx - Result 1.csv\n",
          "output_type": "stream"
        }
      ]
    },
    {
      "cell_type": "markdown",
      "source": [
        "# Load dataframes"
      ],
      "metadata": {
        "id": "frIGQ1qdzdEk"
      }
    },
    {
      "cell_type": "code",
      "source": [
        "all_writings, all_rubrics = [], []\n",
        "for dirname, _, filenames in os.walk('/kaggle/input/thinkcerca'):\n",
        "    for filename in filenames:\n",
        "        if 'writing' in filename:\n",
        "            all_writings.append(os.path.join(dirname, filename))\n",
        "        else:\n",
        "            all_rubrics.append(os.path.join(dirname, filename))"
      ],
      "metadata": {
        "execution": {
          "iopub.status.busy": "2022-03-27T23:07:00.112939Z",
          "iopub.execute_input": "2022-03-27T23:07:00.113742Z",
          "iopub.status.idle": "2022-03-27T23:07:00.119149Z",
          "shell.execute_reply.started": "2022-03-27T23:07:00.113701Z",
          "shell.execute_reply": "2022-03-27T23:07:00.118321Z"
        },
        "trusted": true,
        "id": "Ihrfa_SXzdEl"
      },
      "execution_count": null,
      "outputs": []
    },
    {
      "cell_type": "code",
      "source": [
        "final_writing_list = []\n",
        "for writing_file in all_writings:\n",
        "    df = pd.read_csv(writing_file, skipinitialspace=True)\n",
        "    if \"group_2\" in writing_file:\n",
        "        df.rename({'final_writing': 'sr_final_writing'}, axis=1, inplace=True)\n",
        "    final_writing = df[['sa_id','sr_final_writing']].dropna()\n",
        "    final_writing_list.append(final_writing)\n",
        "group_final_writing = pd.concat(final_writing_list).reset_index()\n",
        "\n",
        "final_rubric_list = []\n",
        "for rubric_file in all_rubrics:\n",
        "    df = pd.read_csv(rubric_file, skipinitialspace=True)\n",
        "    final_rubric = df[['sa_id','a_rubric_id','rc_id','ai_score']].dropna()\n",
        "    final_rubric_list.append(final_rubric)\n",
        "group_final_rubric = pd.concat(final_rubric_list).reset_index()"
      ],
      "metadata": {
        "execution": {
          "iopub.status.busy": "2022-03-27T23:07:01.047672Z",
          "iopub.execute_input": "2022-03-27T23:07:01.048226Z",
          "iopub.status.idle": "2022-03-27T23:07:02.514699Z",
          "shell.execute_reply.started": "2022-03-27T23:07:01.048184Z",
          "shell.execute_reply": "2022-03-27T23:07:02.514003Z"
        },
        "trusted": true,
        "id": "JeHMMWC3zdEl"
      },
      "execution_count": null,
      "outputs": []
    },
    {
      "cell_type": "code",
      "source": [
        "group_final_rubric"
      ],
      "metadata": {
        "execution": {
          "iopub.status.busy": "2022-03-27T23:07:04.177335Z",
          "iopub.execute_input": "2022-03-27T23:07:04.178187Z",
          "iopub.status.idle": "2022-03-27T23:07:04.198470Z",
          "shell.execute_reply.started": "2022-03-27T23:07:04.178131Z",
          "shell.execute_reply": "2022-03-27T23:07:04.197818Z"
        },
        "trusted": true,
        "id": "K3UIsc6mzdEm",
        "outputId": "ee95ac41-5608-48d7-a6df-192e36154de8"
      },
      "execution_count": null,
      "outputs": [
        {
          "execution_count": 5,
          "output_type": "execute_result",
          "data": {
            "text/plain": "       index     sa_id  a_rubric_id  rc_id  ai_score\n0         12   9186611            9     49       2.0\n1         13   9186611            9     51       3.0\n2         14   9186611            9     53       2.0\n3         15   9186611            9     55       1.0\n4         16   9186611            9     57       3.0\n...      ...       ...          ...    ...       ...\n57317  14752  16555289          252   1145       3.0\n57318  14753  16555289          252   1146       3.0\n57319  14754  16555289          252   1147       3.0\n57320  14755  16555289          252   1148       4.0\n57321  14756  16555289          252   1149       4.0\n\n[57322 rows x 5 columns]",
            "text/html": "<div>\n<style scoped>\n    .dataframe tbody tr th:only-of-type {\n        vertical-align: middle;\n    }\n\n    .dataframe tbody tr th {\n        vertical-align: top;\n    }\n\n    .dataframe thead th {\n        text-align: right;\n    }\n</style>\n<table border=\"1\" class=\"dataframe\">\n  <thead>\n    <tr style=\"text-align: right;\">\n      <th></th>\n      <th>index</th>\n      <th>sa_id</th>\n      <th>a_rubric_id</th>\n      <th>rc_id</th>\n      <th>ai_score</th>\n    </tr>\n  </thead>\n  <tbody>\n    <tr>\n      <th>0</th>\n      <td>12</td>\n      <td>9186611</td>\n      <td>9</td>\n      <td>49</td>\n      <td>2.0</td>\n    </tr>\n    <tr>\n      <th>1</th>\n      <td>13</td>\n      <td>9186611</td>\n      <td>9</td>\n      <td>51</td>\n      <td>3.0</td>\n    </tr>\n    <tr>\n      <th>2</th>\n      <td>14</td>\n      <td>9186611</td>\n      <td>9</td>\n      <td>53</td>\n      <td>2.0</td>\n    </tr>\n    <tr>\n      <th>3</th>\n      <td>15</td>\n      <td>9186611</td>\n      <td>9</td>\n      <td>55</td>\n      <td>1.0</td>\n    </tr>\n    <tr>\n      <th>4</th>\n      <td>16</td>\n      <td>9186611</td>\n      <td>9</td>\n      <td>57</td>\n      <td>3.0</td>\n    </tr>\n    <tr>\n      <th>...</th>\n      <td>...</td>\n      <td>...</td>\n      <td>...</td>\n      <td>...</td>\n      <td>...</td>\n    </tr>\n    <tr>\n      <th>57317</th>\n      <td>14752</td>\n      <td>16555289</td>\n      <td>252</td>\n      <td>1145</td>\n      <td>3.0</td>\n    </tr>\n    <tr>\n      <th>57318</th>\n      <td>14753</td>\n      <td>16555289</td>\n      <td>252</td>\n      <td>1146</td>\n      <td>3.0</td>\n    </tr>\n    <tr>\n      <th>57319</th>\n      <td>14754</td>\n      <td>16555289</td>\n      <td>252</td>\n      <td>1147</td>\n      <td>3.0</td>\n    </tr>\n    <tr>\n      <th>57320</th>\n      <td>14755</td>\n      <td>16555289</td>\n      <td>252</td>\n      <td>1148</td>\n      <td>4.0</td>\n    </tr>\n    <tr>\n      <th>57321</th>\n      <td>14756</td>\n      <td>16555289</td>\n      <td>252</td>\n      <td>1149</td>\n      <td>4.0</td>\n    </tr>\n  </tbody>\n</table>\n<p>57322 rows × 5 columns</p>\n</div>"
          },
          "metadata": {}
        }
      ]
    },
    {
      "cell_type": "markdown",
      "source": [
        "# Data filtering"
      ],
      "metadata": {
        "id": "BkXhYx1DzdEm"
      }
    },
    {
      "cell_type": "code",
      "source": [
        "rubric_id_to_rc_id = {252: 1143, 233: 1018, 234: 1025}\n",
        "\n",
        "import collections\n",
        "data = collections.defaultdict(dict)\n",
        "for _,row in group_final_writing.iterrows():\n",
        "    sa_id = row['sa_id']\n",
        "    # filter out final writing that have fewer than 30 characters\n",
        "    if len(row['sr_final_writing']) > 30:\n",
        "        data[sa_id]['final_writing'] = row['sr_final_writing']\n",
        "        data[sa_id]['scores'] = [-1]*7\n",
        "\n",
        "for _,row in group_final_rubric.iterrows():\n",
        "    sa_id = row['sa_id']\n",
        "    # filter out no writing and rubric id 9 because rubric item difference\n",
        "    if (not sa_id in data) or (row['a_rubric_id'] == 9):\n",
        "        continue\n",
        "    rc_id_base = rubric_id_to_rc_id[row['a_rubric_id']]\n",
        "    \n",
        "    index = int(row['rc_id'])-rc_id_base\n",
        "    data[sa_id]['scores'][index]=row['ai_score']\n",
        "\n",
        "to_drop = []\n",
        "for key, val in data.items():\n",
        "    score_cur = val['scores']\n",
        "    score_cur_array = np.array(score_cur)\n",
        "\n",
        "    if -1 in score_cur:\n",
        "        to_drop.append(key)\n",
        "        continue\n",
        "\n",
        "for k in to_drop:\n",
        "    del data[k]\n",
        "\n",
        "data_final = [v for v in data.values()]"
      ],
      "metadata": {
        "execution": {
          "iopub.status.busy": "2022-03-27T23:07:05.448260Z",
          "iopub.execute_input": "2022-03-27T23:07:05.448516Z",
          "iopub.status.idle": "2022-03-27T23:07:09.693961Z",
          "shell.execute_reply.started": "2022-03-27T23:07:05.448486Z",
          "shell.execute_reply": "2022-03-27T23:07:09.693123Z"
        },
        "trusted": true,
        "id": "sE5npJhnzdEn"
      },
      "execution_count": null,
      "outputs": []
    },
    {
      "cell_type": "markdown",
      "source": [
        "# Dataset"
      ],
      "metadata": {
        "execution": {
          "iopub.status.busy": "2022-03-26T06:20:51.253589Z",
          "iopub.execute_input": "2022-03-26T06:20:51.254295Z",
          "iopub.status.idle": "2022-03-26T06:20:51.257678Z",
          "shell.execute_reply.started": "2022-03-26T06:20:51.254258Z",
          "shell.execute_reply": "2022-03-26T06:20:51.256833Z"
        },
        "id": "5fkoryDUzdEn"
      }
    },
    {
      "cell_type": "code",
      "source": [
        "import torch\n",
        "from torch import nn\n",
        "from torch.nn import functional as F\n",
        "from torch.utils.data import DataLoader\n",
        "from torch.utils.data import random_split\n",
        "from torchvision.datasets import MNIST\n",
        "from torchvision import transforms\n",
        "import pytorch_lightning as pl\n",
        "from transformers import BertTokenizer, BertModel\n",
        "from torchmetrics import ConfusionMatrix\n",
        "\n",
        "\n",
        "\n",
        "class WritingDataset(torch.utils.data.Dataset):\n",
        "    def __init__(self, data):\n",
        "        self.data = data\n",
        "        \n",
        "\n",
        "    def __len__(self):\n",
        "        return len(self.data)\n",
        "\n",
        "    def __getitem__(self, idx):\n",
        "        return self.data[idx]['final_writing'], torch.tensor(self.data[idx]['scores'])\n",
        "        "
      ],
      "metadata": {
        "execution": {
          "iopub.status.busy": "2022-03-27T23:07:09.695526Z",
          "iopub.execute_input": "2022-03-27T23:07:09.695889Z",
          "iopub.status.idle": "2022-03-27T23:07:13.451621Z",
          "shell.execute_reply.started": "2022-03-27T23:07:09.695852Z",
          "shell.execute_reply": "2022-03-27T23:07:13.450772Z"
        },
        "trusted": true,
        "id": "hvUe5RBjzdEo"
      },
      "execution_count": null,
      "outputs": []
    },
    {
      "cell_type": "code",
      "source": [
        "import pandas as pd\n",
        "import seaborn as sns\n",
        "import matplotlib.pyplot as plt\n",
        "from transformers import RobertaTokenizer, RobertaModel\n",
        "from transformers import T5Tokenizer, T5EncoderModel\n",
        "\n",
        "NUM_CATEGORIES = 6\n",
        "NUM_RUBRICS = 7\n",
        "tokenizers = [\"roberta-base\", \"bert-base-uncased\", \"t5-large\"]\n",
        "CURR_MODEL = \"t5-large\"\n",
        "\n",
        "class Trainer(pl.LightningModule):\n",
        "    def __init__(self):\n",
        "        super().__init__()\n",
        "        if CURR_MODEL == \"t5-large\":\n",
        "            self.cls = nn.Sequential(\n",
        "                nn.Linear(1024, 512),\n",
        "                nn.ReLU(),\n",
        "                nn.Linear(512, 250),\n",
        "                nn.ReLU(),\n",
        "                nn.Linear(250, NUM_CATEGORIES * NUM_RUBRICS)\n",
        "            )\n",
        "        else:\n",
        "            self.cls = nn.Sequential(\n",
        "                nn.Linear(768, 500),\n",
        "                nn.ReLU(),\n",
        "                nn.Linear(500, 250),\n",
        "                nn.ReLU(),\n",
        "                nn.Linear(250, NUM_CATEGORIES * NUM_RUBRICS)\n",
        "            )\n",
        "        self.tokenizer = T5Tokenizer.from_pretrained(\"t5-large\")\n",
        "        self.bert = T5EncoderModel.from_pretrained(\"t5-large\").cuda()\n",
        "        self.nlp = self.text_feature_extraction\n",
        "        \n",
        "    def text_feature_extraction(self, text):\n",
        "        with torch.no_grad():\n",
        "            if CURR_MODEL == \"t5-large\":\n",
        "                input_ids = self.tokenizer(text, return_tensors=\"pt\",padding=True,truncation=True,max_length=512).input_ids.cuda()\n",
        "                outputs = self.bert(input_ids=input_ids)\n",
        "            else:\n",
        "                inputs = self.tokenizer(text, return_tensors=\"pt\",padding=True,truncation=True,max_length=512)\n",
        "                for key in inputs:\n",
        "                    inputs[key] = inputs[key].cuda()\n",
        "                outputs = self.bert(**inputs)\n",
        "            # outputs.last_hidden_state B x H x 768\n",
        "            return outputs.last_hidden_state.mean(dim=1) # B x 768, #B x 512 for T5\n",
        "        \n",
        "    def forward(self, text):\n",
        "        text_length = [len(t) for t in text] # B\n",
        "        text_feature = self.nlp(text) # B x 768\n",
        "        return self.cls(text_feature)\n",
        "\n",
        "    def configure_optimizers(self):\n",
        "        optimizer = torch.optim.Adam(self.parameters(), lr=1e-3)\n",
        "        return optimizer\n",
        "    \n",
        "  \n",
        "    \n",
        "    def training_step(self, train_batch, batch_idx):\n",
        "        sentence, scores = train_batch\n",
        "        logits = self.forward(sentence).reshape(-1, NUM_CATEGORIES, NUM_RUBRICS) # B x 6 x 8\n",
        "        loss = F.cross_entropy(logits, scores.long())\n",
        "        \n",
        "        self.log('train_ce_loss', loss, batch_size=len(sentence))\n",
        "        preds = logits.argmax(dim=1)\n",
        "        self.log('train_acc', (preds == scores).float().mean(), batch_size=len(sentence))\n",
        "        return loss\n",
        "\n",
        "    def validation_step(self, val_batch, batch_idx):\n",
        "        sentence, scores = val_batch\n",
        "        logits = self.forward(sentence).reshape(-1, NUM_CATEGORIES, NUM_RUBRICS) # B x 6 x 8\n",
        "        \n",
        "        loss = F.cross_entropy(logits, scores.long())\n",
        "        \n",
        "        self.log('val_ce_loss', loss, batch_size=len(sentence))\n",
        "        preds = logits.argmax(dim=1)\n",
        "        self.log('val_acc', (preds == scores).float().mean(), batch_size=len(sentence))\n",
        "        \n",
        "        return {\"scores\": scores, \"pred\": preds}\n",
        "    \n",
        "    def validation_epoch_end(self, validation_step_outputs):\n",
        "        scores_list = []\n",
        "        prediction_list = []\n",
        "        for step in validation_step_outputs:\n",
        "            s = step[\"scores\"]\n",
        "            scores_list.append(s)\n",
        "            p = step[\"pred\"]\n",
        "            prediction_list.append(p)\n",
        "        scores = torch.cat(scores_list)\n",
        "        prediction = torch.cat(prediction_list)\n",
        "      \n",
        "            \n",
        "        scores_int = scores.int()\n",
        "        prediction_int = prediction.int()\n",
        "        \n",
        "        prediction_int[prediction_int<1]=0\n",
        "        prediction_int[prediction_int>5]=5\n",
        "        \n",
        "        \n",
        "        for i in range(NUM_RUBRICS):\n",
        "            confusion_matrix = ConfusionMatrix(num_classes=6)(prediction_int[:,i].cpu(), scores_int[:,i].cpu())\n",
        "#             print(f\"confusion matrix {i}\", confusion_matrix.numpy())\n",
        "            \n",
        "            df_cm = pd.DataFrame(confusion_matrix.numpy(), index = range(6), columns=range(6))\n",
        "            plt.figure(figsize = (10,7))\n",
        "            fig_ = sns.heatmap(df_cm, annot=True, cmap='Blues').get_figure()\n",
        "            plt.close(fig_)\n",
        "\n",
        "            self.logger.experiment.add_figure(f\"Confusion matrix {i}\", fig_, self.current_epoch)\n",
        "        \n",
        "        \n",
        "        acc_per_rubric_item = torch.mean((prediction == scores).float(), dim=0)\n",
        "        \n",
        "\n",
        "        \n",
        "        self.log('val_Claim_acc', acc_per_rubric_item[0])\n",
        "        self.log('val_Reasons_acc', acc_per_rubric_item[1])\n",
        "        self.log('val_Evidence_acc', acc_per_rubric_item[2])\n",
        "        self.log('val_Reasoning_acc', acc_per_rubric_item[3])\n",
        "        self.log('val_Organization_acc', acc_per_rubric_item[4])\n",
        "        self.log('val_Audience_acc', acc_per_rubric_item[5])\n",
        "        self.log('val_English_acc', acc_per_rubric_item[6])\n",
        "\n",
        "        "
      ],
      "metadata": {
        "execution": {
          "iopub.status.busy": "2022-03-27T21:46:16.789335Z",
          "iopub.execute_input": "2022-03-27T21:46:16.789608Z",
          "iopub.status.idle": "2022-03-27T21:46:17.720439Z",
          "shell.execute_reply.started": "2022-03-27T21:46:16.789578Z",
          "shell.execute_reply": "2022-03-27T21:46:17.719742Z"
        },
        "trusted": true,
        "id": "lr7oz3EVzdEo"
      },
      "execution_count": null,
      "outputs": []
    },
    {
      "cell_type": "code",
      "source": [
        "pl.utilities.seed.seed_everything(seed=1)\n",
        "        \n",
        "# # data\n",
        "dataset = WritingDataset(data_final)\n",
        "# mnist_train, mnist_val = random_split(dataset, [int(len(dataset)*0.8), len(dataset)-int(len(dataset)*0.8)])\n",
        "\n",
        "# train_loader = DataLoader(mnist_train, batch_size=32, shuffle=True)\n",
        "# val_loader = DataLoader(mnist_val, batch_size=64, shuffle=False)\n",
        "\n",
        "# # model\n",
        "model = Trainer()\n",
        "\n",
        "# checkpoint_callback = pl.callbacks.model_checkpoint.ModelCheckpoint(\n",
        "#     monitor=\"val_acc\",\n",
        "#     dirpath=\"checkpoints/\",\n",
        "#     filename=\"cls-all-data-3-layers-{epoch:02d}-{val_acc:.2f}\",\n",
        "#     save_top_k=2,\n",
        "#     mode=\"max\",\n",
        "# )\n",
        "\n",
        "# # training\n",
        "# trainer = pl.Trainer(gpus=1, precision=16, max_epochs=20,callbacks=[checkpoint_callback])\n",
        "# trainer.fit(model, train_loader, val_loader)\n",
        "    \n"
      ],
      "metadata": {
        "execution": {
          "iopub.status.busy": "2022-03-27T21:46:20.793372Z",
          "iopub.execute_input": "2022-03-27T21:46:20.793629Z",
          "iopub.status.idle": "2022-03-27T21:47:41.722416Z",
          "shell.execute_reply.started": "2022-03-27T21:46:20.793600Z",
          "shell.execute_reply": "2022-03-27T21:47:41.721690Z"
        },
        "trusted": true,
        "id": "mxo96teAzdEp",
        "outputId": "83c87360-6837-4c84-a61c-a8c2f298c091",
        "colab": {
          "referenced_widgets": [
            "0c15bf26690a439586d18e8ac84cf837",
            "c2c3e28516ab429a8d3f4d157b95429b",
            "9bbd7f7e28154069bc83383c69427bd3",
            "2ed8a5607d234dc6adb23bb776f9a832"
          ]
        }
      },
      "execution_count": null,
      "outputs": [
        {
          "output_type": "display_data",
          "data": {
            "text/plain": "Downloading:   0%|          | 0.00/773k [00:00<?, ?B/s]",
            "application/vnd.jupyter.widget-view+json": {
              "version_major": 2,
              "version_minor": 0,
              "model_id": "0c15bf26690a439586d18e8ac84cf837"
            }
          },
          "metadata": {}
        },
        {
          "output_type": "display_data",
          "data": {
            "text/plain": "Downloading:   0%|          | 0.00/1.32M [00:00<?, ?B/s]",
            "application/vnd.jupyter.widget-view+json": {
              "version_major": 2,
              "version_minor": 0,
              "model_id": "c2c3e28516ab429a8d3f4d157b95429b"
            }
          },
          "metadata": {}
        },
        {
          "output_type": "display_data",
          "data": {
            "text/plain": "Downloading:   0%|          | 0.00/1.17k [00:00<?, ?B/s]",
            "application/vnd.jupyter.widget-view+json": {
              "version_major": 2,
              "version_minor": 0,
              "model_id": "9bbd7f7e28154069bc83383c69427bd3"
            }
          },
          "metadata": {}
        },
        {
          "output_type": "display_data",
          "data": {
            "text/plain": "Downloading:   0%|          | 0.00/2.75G [00:00<?, ?B/s]",
            "application/vnd.jupyter.widget-view+json": {
              "version_major": 2,
              "version_minor": 0,
              "model_id": "2ed8a5607d234dc6adb23bb776f9a832"
            }
          },
          "metadata": {}
        },
        {
          "name": "stderr",
          "text": "Some weights of the model checkpoint at t5-large were not used when initializing T5EncoderModel: ['decoder.block.1.layer.2.layer_norm.weight', 'decoder.block.19.layer.0.SelfAttention.k.weight', 'decoder.block.8.layer.0.SelfAttention.v.weight', 'decoder.block.21.layer.1.layer_norm.weight', 'decoder.block.22.layer.0.SelfAttention.k.weight', 'decoder.block.1.layer.1.EncDecAttention.k.weight', 'decoder.block.3.layer.0.SelfAttention.o.weight', 'decoder.block.12.layer.0.SelfAttention.v.weight', 'decoder.block.3.layer.0.SelfAttention.k.weight', 'decoder.block.7.layer.1.EncDecAttention.v.weight', 'decoder.block.11.layer.1.EncDecAttention.q.weight', 'decoder.block.14.layer.0.SelfAttention.q.weight', 'decoder.block.0.layer.0.layer_norm.weight', 'decoder.block.1.layer.0.SelfAttention.k.weight', 'decoder.block.1.layer.0.SelfAttention.o.weight', 'decoder.block.2.layer.2.DenseReluDense.wo.weight', 'decoder.block.5.layer.1.EncDecAttention.v.weight', 'decoder.block.3.layer.0.SelfAttention.v.weight', 'decoder.block.9.layer.2.layer_norm.weight', 'decoder.block.15.layer.1.layer_norm.weight', 'decoder.block.3.layer.2.DenseReluDense.wo.weight', 'decoder.block.1.layer.0.layer_norm.weight', 'decoder.block.19.layer.1.EncDecAttention.k.weight', 'decoder.block.15.layer.1.EncDecAttention.k.weight', 'decoder.block.7.layer.1.EncDecAttention.q.weight', 'decoder.block.19.layer.2.DenseReluDense.wi.weight', 'decoder.block.11.layer.1.EncDecAttention.o.weight', 'decoder.block.18.layer.1.EncDecAttention.v.weight', 'decoder.block.9.layer.0.SelfAttention.v.weight', 'decoder.block.3.layer.1.EncDecAttention.v.weight', 'decoder.block.4.layer.1.EncDecAttention.o.weight', 'decoder.block.22.layer.0.layer_norm.weight', 'decoder.block.20.layer.0.SelfAttention.k.weight', 'decoder.block.1.layer.2.DenseReluDense.wo.weight', 'decoder.block.13.layer.0.SelfAttention.v.weight', 'decoder.block.7.layer.1.EncDecAttention.k.weight', 'decoder.block.4.layer.0.layer_norm.weight', 'decoder.block.5.layer.1.EncDecAttention.k.weight', 'decoder.block.16.layer.0.SelfAttention.k.weight', 'decoder.block.16.layer.1.EncDecAttention.o.weight', 'decoder.block.0.layer.1.EncDecAttention.q.weight', 'decoder.block.8.layer.2.layer_norm.weight', 'decoder.block.2.layer.2.DenseReluDense.wi.weight', 'decoder.block.17.layer.0.layer_norm.weight', 'decoder.block.9.layer.1.layer_norm.weight', 'decoder.block.2.layer.1.EncDecAttention.q.weight', 'decoder.block.14.layer.0.SelfAttention.o.weight', 'decoder.block.6.layer.2.DenseReluDense.wo.weight', 'decoder.block.13.layer.1.EncDecAttention.q.weight', 'decoder.block.21.layer.0.SelfAttention.o.weight', 'decoder.block.1.layer.1.EncDecAttention.v.weight', 'decoder.block.16.layer.2.layer_norm.weight', 'decoder.block.20.layer.2.layer_norm.weight', 'decoder.block.6.layer.0.SelfAttention.q.weight', 'decoder.block.9.layer.2.DenseReluDense.wi.weight', 'decoder.block.16.layer.1.EncDecAttention.k.weight', 'decoder.block.13.layer.0.SelfAttention.q.weight', 'decoder.block.20.layer.1.EncDecAttention.k.weight', 'decoder.block.19.layer.0.SelfAttention.v.weight', 'decoder.block.23.layer.0.SelfAttention.v.weight', 'decoder.block.13.layer.0.layer_norm.weight', 'decoder.block.16.layer.0.SelfAttention.q.weight', 'decoder.block.6.layer.0.SelfAttention.o.weight', 'decoder.block.0.layer.1.layer_norm.weight', 'decoder.block.16.layer.0.layer_norm.weight', 'decoder.block.6.layer.1.EncDecAttention.q.weight', 'decoder.block.13.layer.0.SelfAttention.o.weight', 'decoder.block.17.layer.2.layer_norm.weight', 'decoder.block.21.layer.0.layer_norm.weight', 'decoder.block.19.layer.1.EncDecAttention.v.weight', 'decoder.block.17.layer.0.SelfAttention.k.weight', 'decoder.block.16.layer.2.DenseReluDense.wo.weight', 'decoder.block.7.layer.2.DenseReluDense.wo.weight', 'decoder.block.2.layer.1.EncDecAttention.v.weight', 'decoder.block.17.layer.2.DenseReluDense.wi.weight', 'decoder.block.4.layer.1.layer_norm.weight', 'decoder.block.2.layer.0.SelfAttention.o.weight', 'decoder.block.2.layer.0.SelfAttention.q.weight', 'decoder.block.2.layer.2.layer_norm.weight', 'decoder.block.9.layer.1.EncDecAttention.k.weight', 'decoder.block.9.layer.2.DenseReluDense.wo.weight', 'decoder.block.15.layer.0.SelfAttention.o.weight', 'decoder.block.12.layer.1.EncDecAttention.o.weight', 'decoder.block.15.layer.2.layer_norm.weight', 'decoder.block.6.layer.1.layer_norm.weight', 'decoder.block.11.layer.0.SelfAttention.k.weight', 'decoder.block.6.layer.0.layer_norm.weight', 'decoder.block.1.layer.1.EncDecAttention.q.weight', 'decoder.block.13.layer.0.SelfAttention.k.weight', 'decoder.block.18.layer.2.DenseReluDense.wi.weight', 'decoder.block.21.layer.1.EncDecAttention.k.weight', 'decoder.block.19.layer.2.layer_norm.weight', 'decoder.block.10.layer.0.SelfAttention.q.weight', 'decoder.block.1.layer.0.SelfAttention.q.weight', 'decoder.block.14.layer.0.layer_norm.weight', 'decoder.block.11.layer.0.layer_norm.weight', 'decoder.block.22.layer.2.DenseReluDense.wi.weight', 'decoder.block.9.layer.0.layer_norm.weight', 'decoder.block.18.layer.1.EncDecAttention.k.weight', 'decoder.block.13.layer.1.EncDecAttention.v.weight', 'decoder.block.4.layer.0.SelfAttention.q.weight', 'decoder.block.13.layer.1.layer_norm.weight', 'decoder.block.15.layer.0.SelfAttention.k.weight', 'decoder.block.10.layer.0.SelfAttention.k.weight', 'decoder.block.14.layer.1.EncDecAttention.q.weight', 'decoder.block.15.layer.1.EncDecAttention.v.weight', 'decoder.block.8.layer.0.layer_norm.weight', 'decoder.block.23.layer.2.layer_norm.weight', 'decoder.block.4.layer.2.DenseReluDense.wo.weight', 'decoder.block.11.layer.0.SelfAttention.q.weight', 'decoder.block.2.layer.0.layer_norm.weight', 'decoder.block.16.layer.0.SelfAttention.v.weight', 'decoder.block.3.layer.1.EncDecAttention.k.weight', 'decoder.block.12.layer.0.layer_norm.weight', 'decoder.block.14.layer.1.EncDecAttention.v.weight', 'decoder.block.1.layer.0.SelfAttention.v.weight', 'decoder.block.16.layer.1.EncDecAttention.v.weight', 'decoder.block.5.layer.0.SelfAttention.o.weight', 'decoder.block.20.layer.1.layer_norm.weight', 'decoder.block.18.layer.0.SelfAttention.q.weight', 'decoder.block.21.layer.0.SelfAttention.k.weight', 'decoder.block.5.layer.1.EncDecAttention.o.weight', 'decoder.block.10.layer.0.SelfAttention.v.weight', 'decoder.block.21.layer.1.EncDecAttention.q.weight', 'decoder.block.21.layer.1.EncDecAttention.v.weight', 'decoder.block.11.layer.2.DenseReluDense.wo.weight', 'decoder.block.6.layer.0.SelfAttention.k.weight', 'decoder.block.8.layer.2.DenseReluDense.wo.weight', 'decoder.block.17.layer.1.EncDecAttention.o.weight', 'decoder.block.8.layer.0.SelfAttention.k.weight', 'decoder.block.23.layer.2.DenseReluDense.wi.weight', 'decoder.block.22.layer.0.SelfAttention.v.weight', 'decoder.block.1.layer.1.layer_norm.weight', 'decoder.block.22.layer.1.EncDecAttention.k.weight', 'decoder.block.7.layer.0.SelfAttention.o.weight', 'decoder.block.17.layer.0.SelfAttention.o.weight', 'decoder.block.5.layer.2.DenseReluDense.wo.weight', 'decoder.block.9.layer.0.SelfAttention.o.weight', 'decoder.block.23.layer.2.DenseReluDense.wo.weight', 'decoder.block.8.layer.1.EncDecAttention.k.weight', 'decoder.block.22.layer.1.EncDecAttention.v.weight', 'decoder.block.23.layer.1.EncDecAttention.o.weight', 'decoder.block.8.layer.2.DenseReluDense.wi.weight', 'decoder.block.10.layer.1.EncDecAttention.o.weight', 'decoder.block.18.layer.0.layer_norm.weight', 'decoder.block.17.layer.1.EncDecAttention.v.weight', 'decoder.block.15.layer.1.EncDecAttention.q.weight', 'decoder.block.13.layer.2.DenseReluDense.wo.weight', 'decoder.block.15.layer.0.SelfAttention.v.weight', 'decoder.block.23.layer.0.SelfAttention.o.weight', 'decoder.block.17.layer.1.EncDecAttention.q.weight', 'decoder.block.23.layer.1.layer_norm.weight', 'decoder.block.22.layer.2.DenseReluDense.wo.weight', 'decoder.block.18.layer.0.SelfAttention.k.weight', 'decoder.block.5.layer.1.layer_norm.weight', 'decoder.block.9.layer.1.EncDecAttention.o.weight', 'decoder.block.18.layer.0.SelfAttention.v.weight', 'decoder.block.0.layer.0.SelfAttention.relative_attention_bias.weight', 'decoder.block.9.layer.0.SelfAttention.q.weight', 'decoder.block.3.layer.1.layer_norm.weight', 'decoder.block.23.layer.0.SelfAttention.q.weight', 'decoder.block.20.layer.2.DenseReluDense.wo.weight', 'decoder.block.21.layer.0.SelfAttention.q.weight', 'decoder.block.7.layer.0.SelfAttention.k.weight', 'decoder.block.2.layer.0.SelfAttention.k.weight', 'decoder.block.20.layer.1.EncDecAttention.o.weight', 'decoder.block.3.layer.0.SelfAttention.q.weight', 'decoder.block.22.layer.1.EncDecAttention.o.weight', 'decoder.block.6.layer.1.EncDecAttention.v.weight', 'decoder.block.12.layer.1.EncDecAttention.q.weight', 'decoder.block.3.layer.2.layer_norm.weight', 'decoder.block.6.layer.1.EncDecAttention.k.weight', 'decoder.block.15.layer.0.SelfAttention.q.weight', 'decoder.block.10.layer.1.layer_norm.weight', 'decoder.block.23.layer.1.EncDecAttention.q.weight', 'decoder.block.17.layer.1.layer_norm.weight', 'decoder.block.12.layer.2.DenseReluDense.wi.weight', 'decoder.block.15.layer.2.DenseReluDense.wi.weight', 'decoder.block.22.layer.1.EncDecAttention.q.weight', 'decoder.block.6.layer.1.EncDecAttention.o.weight', 'decoder.block.19.layer.1.EncDecAttention.q.weight', 'decoder.block.15.layer.1.EncDecAttention.o.weight', 'decoder.block.21.layer.2.layer_norm.weight', 'decoder.block.15.layer.2.DenseReluDense.wo.weight', 'decoder.block.0.layer.2.DenseReluDense.wo.weight', 'decoder.block.22.layer.2.layer_norm.weight', 'decoder.block.0.layer.0.SelfAttention.o.weight', 'decoder.block.3.layer.0.layer_norm.weight', 'decoder.block.0.layer.0.SelfAttention.v.weight', 'decoder.block.16.layer.2.DenseReluDense.wi.weight', 'decoder.block.7.layer.1.EncDecAttention.o.weight', 'decoder.block.21.layer.2.DenseReluDense.wo.weight', 'decoder.block.9.layer.1.EncDecAttention.v.weight', 'decoder.block.16.layer.0.SelfAttention.o.weight', 'decoder.block.11.layer.2.DenseReluDense.wi.weight', 'decoder.block.8.layer.1.layer_norm.weight', 'decoder.block.5.layer.0.SelfAttention.q.weight', 'decoder.block.7.layer.0.SelfAttention.q.weight', 'decoder.block.6.layer.0.SelfAttention.v.weight', 'decoder.block.4.layer.2.layer_norm.weight', 'decoder.block.7.layer.0.SelfAttention.v.weight', 'decoder.block.14.layer.1.EncDecAttention.k.weight', 'decoder.block.0.layer.1.EncDecAttention.o.weight', 'decoder.block.10.layer.1.EncDecAttention.k.weight', 'decoder.block.22.layer.0.SelfAttention.o.weight', 'decoder.block.0.layer.1.EncDecAttention.relative_attention_bias.weight', 'decoder.block.18.layer.1.layer_norm.weight', 'decoder.block.19.layer.0.SelfAttention.o.weight', 'decoder.block.10.layer.2.DenseReluDense.wo.weight', 'decoder.block.4.layer.0.SelfAttention.k.weight', 'decoder.block.4.layer.1.EncDecAttention.v.weight', 'decoder.block.4.layer.2.DenseReluDense.wi.weight', 'decoder.block.10.layer.2.layer_norm.weight', 'decoder.block.20.layer.0.layer_norm.weight', 'decoder.block.4.layer.1.EncDecAttention.q.weight', 'decoder.block.19.layer.0.layer_norm.weight', 'decoder.block.2.layer.1.EncDecAttention.k.weight', 'decoder.block.8.layer.0.SelfAttention.q.weight', 'decoder.block.10.layer.0.layer_norm.weight', 'decoder.block.12.layer.1.EncDecAttention.v.weight', 'decoder.block.14.layer.2.layer_norm.weight', 'decoder.block.12.layer.2.layer_norm.weight', 'decoder.block.9.layer.1.EncDecAttention.q.weight', 'decoder.block.6.layer.2.DenseReluDense.wi.weight', 'decoder.block.20.layer.0.SelfAttention.q.weight', 'decoder.block.21.layer.2.DenseReluDense.wi.weight', 'decoder.block.11.layer.2.layer_norm.weight', 'decoder.block.0.layer.2.DenseReluDense.wi.weight', 'decoder.block.4.layer.0.SelfAttention.o.weight', 'decoder.block.11.layer.1.layer_norm.weight', 'decoder.block.12.layer.1.layer_norm.weight', 'decoder.block.18.layer.2.layer_norm.weight', 'decoder.block.23.layer.0.layer_norm.weight', 'decoder.block.12.layer.0.SelfAttention.q.weight', 'decoder.block.18.layer.2.DenseReluDense.wo.weight', 'decoder.block.7.layer.0.layer_norm.weight', 'decoder.block.13.layer.2.DenseReluDense.wi.weight', 'decoder.block.14.layer.0.SelfAttention.k.weight', 'decoder.block.11.layer.1.EncDecAttention.k.weight', 'decoder.block.13.layer.1.EncDecAttention.o.weight', 'decoder.block.1.layer.2.DenseReluDense.wi.weight', 'decoder.block.11.layer.0.SelfAttention.v.weight', 'decoder.block.4.layer.0.SelfAttention.v.weight', 'decoder.block.4.layer.1.EncDecAttention.k.weight', 'decoder.block.0.layer.2.layer_norm.weight', 'decoder.block.23.layer.0.SelfAttention.k.weight', 'decoder.block.12.layer.2.DenseReluDense.wo.weight', 'decoder.block.13.layer.2.layer_norm.weight', 'decoder.block.19.layer.1.layer_norm.weight', 'decoder.block.9.layer.0.SelfAttention.k.weight', 'decoder.block.5.layer.0.SelfAttention.k.weight', 'decoder.block.2.layer.0.SelfAttention.v.weight', 'decoder.block.2.layer.1.EncDecAttention.o.weight', 'decoder.block.14.layer.1.layer_norm.weight', 'decoder.block.10.layer.2.DenseReluDense.wi.weight', 'decoder.block.0.layer.0.SelfAttention.k.weight', 'decoder.final_layer_norm.weight', 'decoder.block.7.layer.1.layer_norm.weight', 'decoder.block.0.layer.1.EncDecAttention.v.weight', 'decoder.block.20.layer.0.SelfAttention.o.weight', 'decoder.block.23.layer.1.EncDecAttention.k.weight', 'decoder.block.3.layer.2.DenseReluDense.wi.weight', 'decoder.block.8.layer.1.EncDecAttention.o.weight', 'decoder.block.14.layer.2.DenseReluDense.wi.weight', 'decoder.block.19.layer.0.SelfAttention.q.weight', 'decoder.block.5.layer.2.layer_norm.weight', 'decoder.block.5.layer.2.DenseReluDense.wi.weight', 'decoder.block.3.layer.1.EncDecAttention.o.weight', 'decoder.block.16.layer.1.layer_norm.weight', 'decoder.block.22.layer.0.SelfAttention.q.weight', 'decoder.block.6.layer.2.layer_norm.weight', 'decoder.block.16.layer.1.EncDecAttention.q.weight', 'decoder.block.19.layer.1.EncDecAttention.o.weight', 'decoder.block.18.layer.0.SelfAttention.o.weight', 'decoder.block.23.layer.1.EncDecAttention.v.weight', 'decoder.block.17.layer.2.DenseReluDense.wo.weight', 'decoder.block.7.layer.2.layer_norm.weight', 'decoder.block.12.layer.1.EncDecAttention.k.weight', 'decoder.block.8.layer.1.EncDecAttention.v.weight', 'decoder.block.5.layer.0.layer_norm.weight', 'decoder.block.20.layer.2.DenseReluDense.wi.weight', 'decoder.block.14.layer.2.DenseReluDense.wo.weight', 'decoder.block.11.layer.1.EncDecAttention.v.weight', 'decoder.block.20.layer.1.EncDecAttention.q.weight', 'decoder.block.20.layer.0.SelfAttention.v.weight', 'decoder.block.22.layer.1.layer_norm.weight', 'decoder.block.12.layer.0.SelfAttention.k.weight', 'decoder.block.19.layer.2.DenseReluDense.wo.weight', 'decoder.block.17.layer.0.SelfAttention.q.weight', 'decoder.block.8.layer.0.SelfAttention.o.weight', 'decoder.block.7.layer.2.DenseReluDense.wi.weight', 'decoder.block.13.layer.1.EncDecAttention.k.weight', 'decoder.block.18.layer.1.EncDecAttention.o.weight', 'decoder.block.3.layer.1.EncDecAttention.q.weight', 'decoder.block.0.layer.1.EncDecAttention.k.weight', 'decoder.block.10.layer.1.EncDecAttention.v.weight', 'decoder.block.11.layer.0.SelfAttention.o.weight', 'decoder.block.5.layer.1.EncDecAttention.q.weight', 'decoder.block.17.layer.0.SelfAttention.v.weight', 'decoder.block.10.layer.0.SelfAttention.o.weight', 'decoder.block.2.layer.1.layer_norm.weight', 'decoder.block.20.layer.1.EncDecAttention.v.weight', 'decoder.block.17.layer.1.EncDecAttention.k.weight', 'decoder.block.21.layer.0.SelfAttention.v.weight', 'decoder.block.0.layer.0.SelfAttention.q.weight', 'decoder.block.10.layer.1.EncDecAttention.q.weight', 'decoder.block.8.layer.1.EncDecAttention.q.weight', 'decoder.block.1.layer.1.EncDecAttention.o.weight', 'decoder.block.14.layer.1.EncDecAttention.o.weight', 'decoder.block.15.layer.0.layer_norm.weight', 'decoder.block.12.layer.0.SelfAttention.o.weight', 'decoder.block.18.layer.1.EncDecAttention.q.weight', 'decoder.block.5.layer.0.SelfAttention.v.weight', 'decoder.block.14.layer.0.SelfAttention.v.weight', 'decoder.block.21.layer.1.EncDecAttention.o.weight']\n- This IS expected if you are initializing T5EncoderModel from the checkpoint of a model trained on another task or with another architecture (e.g. initializing a BertForSequenceClassification model from a BertForPreTraining model).\n- This IS NOT expected if you are initializing T5EncoderModel from the checkpoint of a model that you expect to be exactly identical (initializing a BertForSequenceClassification model from a BertForSequenceClassification model).\nSome weights of T5EncoderModel were not initialized from the model checkpoint at t5-large and are newly initialized: ['encoder.embed_tokens.weight']\nYou should probably TRAIN this model on a down-stream task to be able to use it for predictions and inference.\n",
          "output_type": "stream"
        }
      ]
    },
    {
      "cell_type": "markdown",
      "source": [
        "# Precompute Text Feature"
      ],
      "metadata": {
        "id": "at234hSWzdEp"
      }
    },
    {
      "cell_type": "code",
      "source": [
        "# precompute features\n",
        "from tqdm.notebook import tqdm\n",
        "all_text_features = []\n",
        "all_scores = []\n",
        "for text, scores in tqdm(dataset):\n",
        "    all_text_features.append(model.nlp([text])[0].cpu())\n",
        "    all_scores.append(scores)\n"
      ],
      "metadata": {
        "execution": {
          "iopub.status.busy": "2022-03-27T21:47:41.723973Z",
          "iopub.execute_input": "2022-03-27T21:47:41.724221Z",
          "iopub.status.idle": "2022-03-27T21:53:11.502824Z",
          "shell.execute_reply.started": "2022-03-27T21:47:41.724188Z",
          "shell.execute_reply": "2022-03-27T21:53:11.502021Z"
        },
        "trusted": true,
        "id": "8Ff4NyjdzdEp",
        "outputId": "0a144e72-8f4e-4c7e-af2f-6d5b8f9209fb",
        "colab": {
          "referenced_widgets": [
            "cc97f49b1aaa48f08f799b52b1ef504d"
          ]
        }
      },
      "execution_count": null,
      "outputs": [
        {
          "output_type": "display_data",
          "data": {
            "text/plain": "  0%|          | 0/7421 [00:00<?, ?it/s]",
            "application/vnd.jupyter.widget-view+json": {
              "version_major": 2,
              "version_minor": 0,
              "model_id": "cc97f49b1aaa48f08f799b52b1ef504d"
            }
          },
          "metadata": {}
        }
      ]
    },
    {
      "cell_type": "code",
      "source": [
        "precomputed_text_feats = torch.stack(all_text_features)\n",
        "precomputed_scores = torch.stack(all_scores)\n",
        "torch.save([precomputed_text_feats, precomputed_scores], \"precomputed_t5_large_dataset.pt\")"
      ],
      "metadata": {
        "execution": {
          "iopub.status.busy": "2022-03-27T21:58:25.190991Z",
          "iopub.execute_input": "2022-03-27T21:58:25.191272Z",
          "iopub.status.idle": "2022-03-27T21:58:25.291688Z",
          "shell.execute_reply.started": "2022-03-27T21:58:25.191242Z",
          "shell.execute_reply": "2022-03-27T21:58:25.290920Z"
        },
        "trusted": true,
        "id": "g4xwWfE7zdEq"
      },
      "execution_count": null,
      "outputs": []
    },
    {
      "cell_type": "markdown",
      "source": [
        "# Train with precomputed features"
      ],
      "metadata": {
        "id": "eImwsS0QzdEq"
      }
    },
    {
      "cell_type": "code",
      "source": [
        "import torch\n",
        "from torch import nn\n",
        "from torch.nn import functional as F\n",
        "from torch.utils.data import DataLoader\n",
        "from torch.utils.data import random_split\n",
        "from torchvision.datasets import MNIST\n",
        "from torchvision import transforms\n",
        "import pytorch_lightning as pl\n",
        "from transformers import BertTokenizer, BertModel\n",
        "from torchmetrics import ConfusionMatrix\n",
        "import pandas as pd\n",
        "import seaborn as sns\n",
        "import matplotlib.pyplot as plt\n",
        "\n",
        "\n",
        "NUM_CATEGORIES = 6\n",
        "NUM_RUBRICS = 7\n",
        "tokenizers = [\"roberta-base\", \"bert-base-uncased\", \"t5-large\"]\n",
        "CURR_MODEL = \"t5-large\"\n",
        "\n",
        "class PrecomputedTrainer(pl.LightningModule):\n",
        "    def __init__(self):\n",
        "        super().__init__()\n",
        "        if CURR_MODEL == \"t5-large\":\n",
        "            self.cls = nn.Sequential(\n",
        "                nn.Linear(1024, 512),\n",
        "                nn.ReLU(),\n",
        "                nn.Linear(512, 250),\n",
        "                nn.ReLU(),\n",
        "                nn.Linear(250, NUM_CATEGORIES * NUM_RUBRICS)\n",
        "            )\n",
        "        else:\n",
        "            self.cls = nn.Sequential(\n",
        "                nn.Linear(768, 500),\n",
        "                nn.ReLU(),\n",
        "                nn.Linear(500, 250),\n",
        "                nn.ReLU(),\n",
        "                nn.Linear(250, NUM_CATEGORIES * NUM_RUBRICS)\n",
        "            )\n",
        "\n",
        "    def forward(self, text_feature):\n",
        "#         print(text_feature.shape)\n",
        "        return self.cls(text_feature)\n",
        "\n",
        "    def configure_optimizers(self):\n",
        "        optimizer = torch.optim.Adam(self.parameters(), lr=1e-3)\n",
        "        return optimizer\n",
        "    \n",
        "  \n",
        "    \n",
        "    def training_step(self, train_batch, batch_idx):\n",
        "        text_feat, scores = train_batch\n",
        "        logits = self.forward(text_feat).reshape(-1, NUM_CATEGORIES, NUM_RUBRICS) # B x 6 x 8\n",
        "        loss = F.cross_entropy(logits, scores.long())\n",
        "        \n",
        "        self.log('train_ce_loss', loss, batch_size=len(text_feat))\n",
        "        preds = logits.argmax(dim=1)\n",
        "        self.log('train_acc', (preds == scores).float().mean(), batch_size=len(text_feat))\n",
        "        return loss\n",
        "\n",
        "    def validation_step(self, val_batch, batch_idx):\n",
        "        text_feat, scores = val_batch\n",
        "        logits = self.forward(text_feat).reshape(-1, NUM_CATEGORIES, NUM_RUBRICS) # B x 6 x 8\n",
        "        \n",
        "        loss = F.cross_entropy(logits, scores.long())\n",
        "        \n",
        "        self.log('val_ce_loss', loss, batch_size=len(text_feat))\n",
        "        preds = logits.argmax(dim=1)\n",
        "        self.log('val_acc', (preds == scores).float().mean(), batch_size=len(text_feat))\n",
        "        self.log('val_adjacent', (torch.abs(preds - scores) <= 1).float().mean(), batch_size=len(text_feat))\n",
        "        \n",
        "        return {\"scores\": scores, \"pred\": preds}\n",
        "    \n",
        "    def validation_epoch_end(self, validation_step_outputs):\n",
        "        scores_list = []\n",
        "        prediction_list = []\n",
        "        for step in validation_step_outputs:\n",
        "            s = step[\"scores\"]\n",
        "            scores_list.append(s)\n",
        "            p = step[\"pred\"]\n",
        "            prediction_list.append(p)\n",
        "        scores = torch.cat(scores_list)\n",
        "        prediction = torch.cat(prediction_list)\n",
        "      \n",
        "            \n",
        "        scores_int = scores.int()\n",
        "        prediction_int = prediction.int()\n",
        "        \n",
        "        prediction_int[prediction_int<1]=0\n",
        "        prediction_int[prediction_int>5]=5\n",
        "        \n",
        "        \n",
        "        for i in range(NUM_RUBRICS):\n",
        "            confusion_matrix = ConfusionMatrix(num_classes=6)(prediction_int[:,i].cpu(), scores_int[:,i].cpu())\n",
        "#             print(f\"confusion matrix {i}\", confusion_matrix.numpy())\n",
        "            \n",
        "            df_cm = pd.DataFrame(confusion_matrix.numpy(), index = range(6), columns=range(6))\n",
        "            plt.figure(figsize = (10,7))\n",
        "            fig_ = sns.heatmap(df_cm, annot=True, cmap='Blues').get_figure()\n",
        "            plt.close(fig_)\n",
        "\n",
        "            self.logger.experiment.add_figure(f\"Confusion matrix {i}\", fig_, self.current_epoch)\n",
        "        \n",
        "        \n",
        "        acc_per_rubric_item = torch.mean((prediction == scores).float(), dim=0)\n",
        "        ajc_acc_per_rubric_item = torch.mean((torch.abs(prediction - scores) <= 1).float(), dim=0)\n",
        "\n",
        "        \n",
        "        self.log('val_Claim_acc', acc_per_rubric_item[0])\n",
        "        self.log('val_Reasons_acc', acc_per_rubric_item[1])\n",
        "        self.log('val_Evidence_acc', acc_per_rubric_item[2])\n",
        "        self.log('val_Reasoning_acc', acc_per_rubric_item[3])\n",
        "        self.log('val_Organization_acc', acc_per_rubric_item[4])\n",
        "        self.log('val_Audience_acc', acc_per_rubric_item[5])\n",
        "        self.log('val_English_acc', acc_per_rubric_item[6])\n",
        "        \n",
        "        self.log('val_Claim_ajc_acc', ajc_acc_per_rubric_item[0])\n",
        "        self.log('val_Reasons_ajc_acc', ajc_acc_per_rubric_item[1])\n",
        "        self.log('val_Evidence_ajc_acc', ajc_acc_per_rubric_item[2])\n",
        "        self.log('val_Reasoning_ajc_acc', ajc_acc_per_rubric_item[3])\n",
        "        self.log('val_Organization_ajc_acc', ajc_acc_per_rubric_item[4])\n",
        "        self.log('val_Audience_ajc_acc', ajc_acc_per_rubric_item[5])\n",
        "        self.log('val_English_ajc_acc', ajc_acc_per_rubric_item[6])"
      ],
      "metadata": {
        "execution": {
          "iopub.status.busy": "2022-03-27T23:07:22.304115Z",
          "iopub.execute_input": "2022-03-27T23:07:22.304378Z",
          "iopub.status.idle": "2022-03-27T23:07:23.203852Z",
          "shell.execute_reply.started": "2022-03-27T23:07:22.304350Z",
          "shell.execute_reply": "2022-03-27T23:07:23.203154Z"
        },
        "trusted": true,
        "id": "gqJz9_23zdEq"
      },
      "execution_count": null,
      "outputs": []
    },
    {
      "cell_type": "markdown",
      "source": [
        "# Start tensorboard"
      ],
      "metadata": {
        "id": "oMysQql5zdEr"
      }
    },
    {
      "cell_type": "code",
      "source": [
        "# Download Ngrok to tunnel the tensorboard port to an external port\n",
        "!wget https://bin.equinox.io/c/4VmDzA7iaHb/ngrok-stable-linux-amd64.zip\n",
        "!unzip ngrok-stable-linux-amd64.zip\n",
        "!./ngrok authtoken 26uW43ryj6Tp8oQY0YF6l0jauwt_3NdeYNLjBBXJPC4FB6TBa\n",
        "\n",
        "# Run tensorboard as well as Ngrox (for tunneling as non-blocking processes)\n",
        "import os\n",
        "import multiprocessing\n",
        "\n",
        "\n",
        "pool = multiprocessing.Pool(processes = 10)\n",
        "results_of_processes = [pool.apply_async(os.system, args=(cmd, ), callback = None )\n",
        "                        for cmd in [\n",
        "                        f\"tensorboard --logdir ./lightning_logs/ --host 0.0.0.0 --port 6006 &\",\n",
        "                        \"./ngrok http 6006 &\"\n",
        "                        ]]"
      ],
      "metadata": {
        "execution": {
          "iopub.status.busy": "2022-03-27T23:07:34.359726Z",
          "iopub.execute_input": "2022-03-27T23:07:34.360022Z",
          "iopub.status.idle": "2022-03-27T23:07:42.353604Z",
          "shell.execute_reply.started": "2022-03-27T23:07:34.359973Z",
          "shell.execute_reply": "2022-03-27T23:07:42.351134Z"
        },
        "trusted": true,
        "id": "9oKITszczdEr",
        "outputId": "996763e0-3e81-4092-a175-bf43f792b3f4"
      },
      "execution_count": null,
      "outputs": [
        {
          "name": "stdout",
          "text": "--2022-03-27 23:07:34--  https://bin.equinox.io/c/4VmDzA7iaHb/ngrok-stable-linux-amd64.zip\nResolving bin.equinox.io (bin.equinox.io)... 54.237.133.81, 52.202.168.65, 18.205.222.128, ...\nConnecting to bin.equinox.io (bin.equinox.io)|54.237.133.81|:443... connected.\nHTTP request sent, awaiting response... 200 OK\nLength: 13832437 (13M) [application/octet-stream]\nSaving to: ‘ngrok-stable-linux-amd64.zip’\n\nngrok-stable-linux- 100%[===================>]  13.19M  3.35MB/s    in 4.9s    \n\n2022-03-27 23:07:40 (2.67 MB/s) - ‘ngrok-stable-linux-amd64.zip’ saved [13832437/13832437]\n\nArchive:  ngrok-stable-linux-amd64.zip\n  inflating: ngrok                   \nAuthtoken saved to configuration file: /root/.ngrok2/ngrok.yml\n",
          "output_type": "stream"
        }
      ]
    },
    {
      "cell_type": "code",
      "source": [
        "# Get the url to access tensorboad\n",
        "## Note: This block of code might throw an error while running all blocks at time. So run blocks one by one till the block below.\n",
        "! curl -s http://localhost:4040/api/tunnels | python3 -c \\\n",
        "    \"import sys, json; print(json.load(sys.stdin)['tunnels'][0]['public_url'])\""
      ],
      "metadata": {
        "execution": {
          "iopub.status.busy": "2022-03-27T23:07:47.600285Z",
          "iopub.execute_input": "2022-03-27T23:07:47.601487Z",
          "iopub.status.idle": "2022-03-27T23:07:48.669012Z",
          "shell.execute_reply.started": "2022-03-27T23:07:47.601437Z",
          "shell.execute_reply": "2022-03-27T23:07:48.667195Z"
        },
        "trusted": true,
        "id": "2IxVjWkNzdEr",
        "outputId": "7d6cce84-88b0-465d-9e8a-2f74a023240b"
      },
      "execution_count": null,
      "outputs": [
        {
          "name": "stdout",
          "text": "https://80c4-35-233-202-188.ngrok.io\n",
          "output_type": "stream"
        },
        {
          "name": "stderr",
          "text": "2022-03-27 23:07:48.593521: I tensorflow/stream_executor/cuda/cuda_gpu_executor.cc:937] successful NUMA node read from SysFS had negative value (-1), but there must be at least one NUMA node, so returning NUMA node zero\n2022-03-27 23:07:48.673561: I tensorflow/stream_executor/cuda/cuda_gpu_executor.cc:937] successful NUMA node read from SysFS had negative value (-1), but there must be at least one NUMA node, so returning NUMA node zero\n2022-03-27 23:07:48.674524: I tensorflow/stream_executor/cuda/cuda_gpu_executor.cc:937] successful NUMA node read from SysFS had negative value (-1), but there must be at least one NUMA node, so returning NUMA node zero\n\nNOTE: Using experimental fast data loading logic. To disable, pass\n    \"--load_fast=false\" and report issues on GitHub. More details:\n    https://github.com/tensorflow/tensorboard/issues/4784\n\nTensorBoard 2.6.0 at http://0.0.0.0:6006/ (Press CTRL+C to quit)\nW0327 23:07:53.299498 140537825629952 application.py:556] path /apple-touch-icon-precomposed.png not found, sending 404\nW0327 23:07:53.303496 140537783666432 application.py:556] path /apple-touch-icon.png not found, sending 404\n",
          "output_type": "stream"
        }
      ]
    },
    {
      "cell_type": "code",
      "source": [
        "# load precomputed dataset\n",
        "precomputed_text_feats, precomputed_scores = torch.load(\"/kaggle/input/bert-precomputed/precomputed_t5_large_dataset.pt\")\n",
        "precomputed_text_feats, precomputed_scores = precomputed_text_feats.cuda(), precomputed_scores.cuda()\n",
        "precomputed_dataset = torch.utils.data.TensorDataset(precomputed_text_feats, precomputed_scores)"
      ],
      "metadata": {
        "execution": {
          "iopub.status.busy": "2022-03-27T23:07:58.465643Z",
          "iopub.execute_input": "2022-03-27T23:07:58.466317Z",
          "iopub.status.idle": "2022-03-27T23:08:01.849376Z",
          "shell.execute_reply.started": "2022-03-27T23:07:58.466267Z",
          "shell.execute_reply": "2022-03-27T23:08:01.848546Z"
        },
        "trusted": true,
        "id": "28ESdMEmzdEr"
      },
      "execution_count": null,
      "outputs": []
    },
    {
      "cell_type": "code",
      "source": [
        "pl.utilities.seed.seed_everything(seed=1)\n",
        "        \n",
        "# data\n",
        "dataset = precomputed_dataset\n",
        "mnist_train, mnist_val = random_split(dataset, [int(len(dataset)*0.8), len(dataset)-int(len(dataset)*0.8)])\n",
        "\n",
        "train_loader = DataLoader(mnist_train, batch_size=128, shuffle=True)\n",
        "val_loader = DataLoader(mnist_val, batch_size=256, shuffle=False)\n",
        "\n",
        "# model\n",
        "model = PrecomputedTrainer()\n",
        "\n",
        "checkpoint_callback = pl.callbacks.model_checkpoint.ModelCheckpoint(\n",
        "    monitor=\"val_acc\",\n",
        "    dirpath=\"checkpoints/\",\n",
        "    filename=\"cls-all-data-t5_large-{epoch:02d}-{val_acc:.4f}\",\n",
        "    save_top_k=2,\n",
        "    mode=\"max\",\n",
        ")\n",
        "\n",
        "# training\n",
        "trainer = pl.Trainer(gpus=1, precision=16, max_epochs=50,callbacks=[checkpoint_callback])\n",
        "trainer.fit(model, train_loader, val_loader)\n",
        "    \n"
      ],
      "metadata": {
        "execution": {
          "iopub.status.busy": "2022-03-27T23:08:01.851150Z",
          "iopub.execute_input": "2022-03-27T23:08:01.851427Z",
          "iopub.status.idle": "2022-03-27T23:09:59.325618Z",
          "shell.execute_reply.started": "2022-03-27T23:08:01.851384Z",
          "shell.execute_reply": "2022-03-27T23:09:59.324999Z"
        },
        "trusted": true,
        "id": "Wu-qbaWMzdEs",
        "outputId": "417cef4c-20e7-4feb-8b5d-0e54ea7b7d4e"
      },
      "execution_count": null,
      "outputs": [
        {
          "output_type": "display_data",
          "data": {
            "text/plain": "Validation sanity check: 0it [00:00, ?it/s]",
            "application/vnd.jupyter.widget-view+json": {
              "version_major": 2,
              "version_minor": 0,
              "model_id": ""
            }
          },
          "metadata": {}
        },
        {
          "name": "stderr",
          "text": "/opt/conda/lib/python3.7/site-packages/pytorch_lightning/trainer/data_loading.py:433: UserWarning: The number of training samples (47) is smaller than the logging interval Trainer(log_every_n_steps=50). Set a lower value for log_every_n_steps if you want to see logs for the training epoch.\n  f\"The number of training samples ({self.num_training_batches}) is smaller than the logging interval\"\n",
          "output_type": "stream"
        },
        {
          "output_type": "display_data",
          "data": {
            "text/plain": "Training: 0it [00:00, ?it/s]",
            "application/vnd.jupyter.widget-view+json": {
              "version_major": 2,
              "version_minor": 0,
              "model_id": "b88803095b7d46c1a24a8227b030db9e"
            }
          },
          "metadata": {}
        },
        {
          "output_type": "display_data",
          "data": {
            "text/plain": "Validating: 0it [00:00, ?it/s]",
            "application/vnd.jupyter.widget-view+json": {
              "version_major": 2,
              "version_minor": 0,
              "model_id": ""
            }
          },
          "metadata": {}
        },
        {
          "output_type": "display_data",
          "data": {
            "text/plain": "Validating: 0it [00:00, ?it/s]",
            "application/vnd.jupyter.widget-view+json": {
              "version_major": 2,
              "version_minor": 0,
              "model_id": ""
            }
          },
          "metadata": {}
        },
        {
          "output_type": "display_data",
          "data": {
            "text/plain": "Validating: 0it [00:00, ?it/s]",
            "application/vnd.jupyter.widget-view+json": {
              "version_major": 2,
              "version_minor": 0,
              "model_id": ""
            }
          },
          "metadata": {}
        },
        {
          "output_type": "display_data",
          "data": {
            "text/plain": "Validating: 0it [00:00, ?it/s]",
            "application/vnd.jupyter.widget-view+json": {
              "version_major": 2,
              "version_minor": 0,
              "model_id": ""
            }
          },
          "metadata": {}
        },
        {
          "output_type": "display_data",
          "data": {
            "text/plain": "Validating: 0it [00:00, ?it/s]",
            "application/vnd.jupyter.widget-view+json": {
              "version_major": 2,
              "version_minor": 0,
              "model_id": ""
            }
          },
          "metadata": {}
        },
        {
          "output_type": "display_data",
          "data": {
            "text/plain": "Validating: 0it [00:00, ?it/s]",
            "application/vnd.jupyter.widget-view+json": {
              "version_major": 2,
              "version_minor": 0,
              "model_id": ""
            }
          },
          "metadata": {}
        },
        {
          "output_type": "display_data",
          "data": {
            "text/plain": "Validating: 0it [00:00, ?it/s]",
            "application/vnd.jupyter.widget-view+json": {
              "version_major": 2,
              "version_minor": 0,
              "model_id": ""
            }
          },
          "metadata": {}
        },
        {
          "output_type": "display_data",
          "data": {
            "text/plain": "Validating: 0it [00:00, ?it/s]",
            "application/vnd.jupyter.widget-view+json": {
              "version_major": 2,
              "version_minor": 0,
              "model_id": ""
            }
          },
          "metadata": {}
        },
        {
          "output_type": "display_data",
          "data": {
            "text/plain": "Validating: 0it [00:00, ?it/s]",
            "application/vnd.jupyter.widget-view+json": {
              "version_major": 2,
              "version_minor": 0,
              "model_id": ""
            }
          },
          "metadata": {}
        },
        {
          "output_type": "display_data",
          "data": {
            "text/plain": "Validating: 0it [00:00, ?it/s]",
            "application/vnd.jupyter.widget-view+json": {
              "version_major": 2,
              "version_minor": 0,
              "model_id": ""
            }
          },
          "metadata": {}
        },
        {
          "output_type": "display_data",
          "data": {
            "text/plain": "Validating: 0it [00:00, ?it/s]",
            "application/vnd.jupyter.widget-view+json": {
              "version_major": 2,
              "version_minor": 0,
              "model_id": ""
            }
          },
          "metadata": {}
        },
        {
          "output_type": "display_data",
          "data": {
            "text/plain": "Validating: 0it [00:00, ?it/s]",
            "application/vnd.jupyter.widget-view+json": {
              "version_major": 2,
              "version_minor": 0,
              "model_id": ""
            }
          },
          "metadata": {}
        },
        {
          "output_type": "display_data",
          "data": {
            "text/plain": "Validating: 0it [00:00, ?it/s]",
            "application/vnd.jupyter.widget-view+json": {
              "version_major": 2,
              "version_minor": 0,
              "model_id": ""
            }
          },
          "metadata": {}
        },
        {
          "output_type": "display_data",
          "data": {
            "text/plain": "Validating: 0it [00:00, ?it/s]",
            "application/vnd.jupyter.widget-view+json": {
              "version_major": 2,
              "version_minor": 0,
              "model_id": ""
            }
          },
          "metadata": {}
        },
        {
          "output_type": "display_data",
          "data": {
            "text/plain": "Validating: 0it [00:00, ?it/s]",
            "application/vnd.jupyter.widget-view+json": {
              "version_major": 2,
              "version_minor": 0,
              "model_id": ""
            }
          },
          "metadata": {}
        },
        {
          "output_type": "display_data",
          "data": {
            "text/plain": "Validating: 0it [00:00, ?it/s]",
            "application/vnd.jupyter.widget-view+json": {
              "version_major": 2,
              "version_minor": 0,
              "model_id": ""
            }
          },
          "metadata": {}
        },
        {
          "output_type": "display_data",
          "data": {
            "text/plain": "Validating: 0it [00:00, ?it/s]",
            "application/vnd.jupyter.widget-view+json": {
              "version_major": 2,
              "version_minor": 0,
              "model_id": ""
            }
          },
          "metadata": {}
        },
        {
          "output_type": "display_data",
          "data": {
            "text/plain": "Validating: 0it [00:00, ?it/s]",
            "application/vnd.jupyter.widget-view+json": {
              "version_major": 2,
              "version_minor": 0,
              "model_id": ""
            }
          },
          "metadata": {}
        },
        {
          "output_type": "display_data",
          "data": {
            "text/plain": "Validating: 0it [00:00, ?it/s]",
            "application/vnd.jupyter.widget-view+json": {
              "version_major": 2,
              "version_minor": 0,
              "model_id": ""
            }
          },
          "metadata": {}
        },
        {
          "output_type": "display_data",
          "data": {
            "text/plain": "Validating: 0it [00:00, ?it/s]",
            "application/vnd.jupyter.widget-view+json": {
              "version_major": 2,
              "version_minor": 0,
              "model_id": ""
            }
          },
          "metadata": {}
        },
        {
          "output_type": "display_data",
          "data": {
            "text/plain": "Validating: 0it [00:00, ?it/s]",
            "application/vnd.jupyter.widget-view+json": {
              "version_major": 2,
              "version_minor": 0,
              "model_id": ""
            }
          },
          "metadata": {}
        },
        {
          "output_type": "display_data",
          "data": {
            "text/plain": "Validating: 0it [00:00, ?it/s]",
            "application/vnd.jupyter.widget-view+json": {
              "version_major": 2,
              "version_minor": 0,
              "model_id": ""
            }
          },
          "metadata": {}
        },
        {
          "output_type": "display_data",
          "data": {
            "text/plain": "Validating: 0it [00:00, ?it/s]",
            "application/vnd.jupyter.widget-view+json": {
              "version_major": 2,
              "version_minor": 0,
              "model_id": ""
            }
          },
          "metadata": {}
        },
        {
          "output_type": "display_data",
          "data": {
            "text/plain": "Validating: 0it [00:00, ?it/s]",
            "application/vnd.jupyter.widget-view+json": {
              "version_major": 2,
              "version_minor": 0,
              "model_id": ""
            }
          },
          "metadata": {}
        },
        {
          "output_type": "display_data",
          "data": {
            "text/plain": "Validating: 0it [00:00, ?it/s]",
            "application/vnd.jupyter.widget-view+json": {
              "version_major": 2,
              "version_minor": 0,
              "model_id": ""
            }
          },
          "metadata": {}
        },
        {
          "output_type": "display_data",
          "data": {
            "text/plain": "Validating: 0it [00:00, ?it/s]",
            "application/vnd.jupyter.widget-view+json": {
              "version_major": 2,
              "version_minor": 0,
              "model_id": ""
            }
          },
          "metadata": {}
        },
        {
          "output_type": "display_data",
          "data": {
            "text/plain": "Validating: 0it [00:00, ?it/s]",
            "application/vnd.jupyter.widget-view+json": {
              "version_major": 2,
              "version_minor": 0,
              "model_id": ""
            }
          },
          "metadata": {}
        },
        {
          "output_type": "display_data",
          "data": {
            "text/plain": "Validating: 0it [00:00, ?it/s]",
            "application/vnd.jupyter.widget-view+json": {
              "version_major": 2,
              "version_minor": 0,
              "model_id": ""
            }
          },
          "metadata": {}
        },
        {
          "output_type": "display_data",
          "data": {
            "text/plain": "Validating: 0it [00:00, ?it/s]",
            "application/vnd.jupyter.widget-view+json": {
              "version_major": 2,
              "version_minor": 0,
              "model_id": ""
            }
          },
          "metadata": {}
        },
        {
          "output_type": "display_data",
          "data": {
            "text/plain": "Validating: 0it [00:00, ?it/s]",
            "application/vnd.jupyter.widget-view+json": {
              "version_major": 2,
              "version_minor": 0,
              "model_id": ""
            }
          },
          "metadata": {}
        },
        {
          "output_type": "display_data",
          "data": {
            "text/plain": "Validating: 0it [00:00, ?it/s]",
            "application/vnd.jupyter.widget-view+json": {
              "version_major": 2,
              "version_minor": 0,
              "model_id": ""
            }
          },
          "metadata": {}
        },
        {
          "output_type": "display_data",
          "data": {
            "text/plain": "Validating: 0it [00:00, ?it/s]",
            "application/vnd.jupyter.widget-view+json": {
              "version_major": 2,
              "version_minor": 0,
              "model_id": ""
            }
          },
          "metadata": {}
        },
        {
          "output_type": "display_data",
          "data": {
            "text/plain": "Validating: 0it [00:00, ?it/s]",
            "application/vnd.jupyter.widget-view+json": {
              "version_major": 2,
              "version_minor": 0,
              "model_id": ""
            }
          },
          "metadata": {}
        },
        {
          "output_type": "display_data",
          "data": {
            "text/plain": "Validating: 0it [00:00, ?it/s]",
            "application/vnd.jupyter.widget-view+json": {
              "version_major": 2,
              "version_minor": 0,
              "model_id": ""
            }
          },
          "metadata": {}
        },
        {
          "output_type": "display_data",
          "data": {
            "text/plain": "Validating: 0it [00:00, ?it/s]",
            "application/vnd.jupyter.widget-view+json": {
              "version_major": 2,
              "version_minor": 0,
              "model_id": ""
            }
          },
          "metadata": {}
        },
        {
          "output_type": "display_data",
          "data": {
            "text/plain": "Validating: 0it [00:00, ?it/s]",
            "application/vnd.jupyter.widget-view+json": {
              "version_major": 2,
              "version_minor": 0,
              "model_id": ""
            }
          },
          "metadata": {}
        },
        {
          "output_type": "display_data",
          "data": {
            "text/plain": "Validating: 0it [00:00, ?it/s]",
            "application/vnd.jupyter.widget-view+json": {
              "version_major": 2,
              "version_minor": 0,
              "model_id": ""
            }
          },
          "metadata": {}
        },
        {
          "output_type": "display_data",
          "data": {
            "text/plain": "Validating: 0it [00:00, ?it/s]",
            "application/vnd.jupyter.widget-view+json": {
              "version_major": 2,
              "version_minor": 0,
              "model_id": ""
            }
          },
          "metadata": {}
        },
        {
          "output_type": "display_data",
          "data": {
            "text/plain": "Validating: 0it [00:00, ?it/s]",
            "application/vnd.jupyter.widget-view+json": {
              "version_major": 2,
              "version_minor": 0,
              "model_id": ""
            }
          },
          "metadata": {}
        },
        {
          "output_type": "display_data",
          "data": {
            "text/plain": "Validating: 0it [00:00, ?it/s]",
            "application/vnd.jupyter.widget-view+json": {
              "version_major": 2,
              "version_minor": 0,
              "model_id": ""
            }
          },
          "metadata": {}
        },
        {
          "output_type": "display_data",
          "data": {
            "text/plain": "Validating: 0it [00:00, ?it/s]",
            "application/vnd.jupyter.widget-view+json": {
              "version_major": 2,
              "version_minor": 0,
              "model_id": ""
            }
          },
          "metadata": {}
        },
        {
          "output_type": "display_data",
          "data": {
            "text/plain": "Validating: 0it [00:00, ?it/s]",
            "application/vnd.jupyter.widget-view+json": {
              "version_major": 2,
              "version_minor": 0,
              "model_id": ""
            }
          },
          "metadata": {}
        },
        {
          "output_type": "display_data",
          "data": {
            "text/plain": "Validating: 0it [00:00, ?it/s]",
            "application/vnd.jupyter.widget-view+json": {
              "version_major": 2,
              "version_minor": 0,
              "model_id": ""
            }
          },
          "metadata": {}
        },
        {
          "output_type": "display_data",
          "data": {
            "text/plain": "Validating: 0it [00:00, ?it/s]",
            "application/vnd.jupyter.widget-view+json": {
              "version_major": 2,
              "version_minor": 0,
              "model_id": ""
            }
          },
          "metadata": {}
        },
        {
          "output_type": "display_data",
          "data": {
            "text/plain": "Validating: 0it [00:00, ?it/s]",
            "application/vnd.jupyter.widget-view+json": {
              "version_major": 2,
              "version_minor": 0,
              "model_id": ""
            }
          },
          "metadata": {}
        },
        {
          "output_type": "display_data",
          "data": {
            "text/plain": "Validating: 0it [00:00, ?it/s]",
            "application/vnd.jupyter.widget-view+json": {
              "version_major": 2,
              "version_minor": 0,
              "model_id": ""
            }
          },
          "metadata": {}
        },
        {
          "output_type": "display_data",
          "data": {
            "text/plain": "Validating: 0it [00:00, ?it/s]",
            "application/vnd.jupyter.widget-view+json": {
              "version_major": 2,
              "version_minor": 0,
              "model_id": ""
            }
          },
          "metadata": {}
        },
        {
          "output_type": "display_data",
          "data": {
            "text/plain": "Validating: 0it [00:00, ?it/s]",
            "application/vnd.jupyter.widget-view+json": {
              "version_major": 2,
              "version_minor": 0,
              "model_id": ""
            }
          },
          "metadata": {}
        },
        {
          "output_type": "display_data",
          "data": {
            "text/plain": "Validating: 0it [00:00, ?it/s]",
            "application/vnd.jupyter.widget-view+json": {
              "version_major": 2,
              "version_minor": 0,
              "model_id": ""
            }
          },
          "metadata": {}
        },
        {
          "output_type": "display_data",
          "data": {
            "text/plain": "Validating: 0it [00:00, ?it/s]",
            "application/vnd.jupyter.widget-view+json": {
              "version_major": 2,
              "version_minor": 0,
              "model_id": ""
            }
          },
          "metadata": {}
        },
        {
          "name": "stderr",
          "text": "W0327 23:11:54.136660 140537783666432 application.py:556] path /apple-touch-icon-precomposed.png not found, sending 404\nW0327 23:11:54.138855 140537260648192 application.py:556] path /apple-touch-icon.png not found, sending 404\nW0327 23:12:09.333014 140537783666432 application.py:556] path /apple-touch-icon.png not found, sending 404\nW0327 23:12:09.336329 140537294219008 application.py:556] path /apple-touch-icon-precomposed.png not found, sending 404\n",
          "output_type": "stream"
        }
      ]
    },
    {
      "cell_type": "code",
      "source": [
        ""
      ],
      "metadata": {
        "id": "rswzmUrMzdEs"
      },
      "execution_count": null,
      "outputs": []
    },
    {
      "cell_type": "code",
      "source": [
        ""
      ],
      "metadata": {
        "id": "UVhi8lfRzdEs"
      },
      "execution_count": null,
      "outputs": []
    },
    {
      "cell_type": "code",
      "source": [
        ""
      ],
      "metadata": {
        "id": "4rm6TMy1zdEs"
      },
      "execution_count": null,
      "outputs": []
    },
    {
      "cell_type": "code",
      "source": [
        "#given a model and text, evlauate scores \n",
        "\n",
        "def score(text, model):\n",
        "    model = model.eval().cuda()\n",
        "    return model(text)\n"
      ],
      "metadata": {
        "execution": {
          "iopub.status.busy": "2022-03-13T20:48:52.202677Z",
          "iopub.execute_input": "2022-03-13T20:48:52.203412Z",
          "iopub.status.idle": "2022-03-13T20:48:52.208043Z",
          "shell.execute_reply.started": "2022-03-13T20:48:52.203372Z",
          "shell.execute_reply": "2022-03-13T20:48:52.207241Z"
        },
        "trusted": true,
        "id": "VNva0veQzdEs"
      },
      "execution_count": null,
      "outputs": []
    },
    {
      "cell_type": "code",
      "source": [
        "import warnings\n",
        "warnings.filterwarnings('ignore')\n"
      ],
      "metadata": {
        "execution": {
          "iopub.status.busy": "2022-03-13T19:20:51.199471Z",
          "iopub.execute_input": "2022-03-13T19:20:51.199752Z",
          "iopub.status.idle": "2022-03-13T19:20:51.203628Z",
          "shell.execute_reply.started": "2022-03-13T19:20:51.199721Z",
          "shell.execute_reply": "2022-03-13T19:20:51.202633Z"
        },
        "trusted": true,
        "id": "hyWaf70vzdEt"
      },
      "execution_count": null,
      "outputs": []
    },
    {
      "cell_type": "code",
      "source": [
        "i = 24\n",
        "t, s = mnist_val[i]\n",
        "print(t)\n",
        "print(s)"
      ],
      "metadata": {
        "execution": {
          "iopub.status.busy": "2022-03-18T16:30:11.678733Z",
          "iopub.execute_input": "2022-03-18T16:30:11.678991Z",
          "iopub.status.idle": "2022-03-18T16:30:11.712377Z",
          "shell.execute_reply.started": "2022-03-18T16:30:11.678962Z",
          "shell.execute_reply": "2022-03-18T16:30:11.71158Z"
        },
        "trusted": true,
        "id": "dotm_zPpzdEt"
      },
      "execution_count": null,
      "outputs": []
    },
    {
      "cell_type": "code",
      "source": [
        "loaded_model = Trainer.load_from_checkpoint('checkpoints/cerca-rubric-with-textlength-epoch=17-val_mse_loss=0.77.ckpt')\n",
        "\n",
        "score([t], loaded_model)"
      ],
      "metadata": {
        "execution": {
          "iopub.status.busy": "2022-03-13T20:56:17.757102Z",
          "iopub.execute_input": "2022-03-13T20:56:17.75749Z",
          "iopub.status.idle": "2022-03-13T20:56:24.664566Z",
          "shell.execute_reply.started": "2022-03-13T20:56:17.757456Z",
          "shell.execute_reply": "2022-03-13T20:56:24.663787Z"
        },
        "trusted": true,
        "id": "BPQg5dTKzdEt"
      },
      "execution_count": null,
      "outputs": []
    },
    {
      "cell_type": "code",
      "source": [
        "word_count, text_lengths, scores, scores_pred = [], [], [], []\n",
        "from tqdm.notebook import tqdm\n",
        "for t, s in tqdm(mnist_val):\n",
        "    text_lengths.append(len(t))\n",
        "    word_count.append(len(t.split()))\n",
        "    scores.append(s[-1].item())\n",
        "    scores_pred.append(score([t], loaded_model)[0][-1].item())"
      ],
      "metadata": {
        "execution": {
          "iopub.status.busy": "2022-03-13T20:51:12.115443Z",
          "iopub.execute_input": "2022-03-13T20:51:12.11576Z",
          "iopub.status.idle": "2022-03-13T20:51:22.779343Z",
          "shell.execute_reply.started": "2022-03-13T20:51:12.115727Z",
          "shell.execute_reply": "2022-03-13T20:51:22.778498Z"
        },
        "trusted": true,
        "id": "6m9Dbf1VzdEt"
      },
      "execution_count": null,
      "outputs": []
    },
    {
      "cell_type": "code",
      "source": [
        "import matplotlib.pyplot as plt\n",
        "import seaborn as sns\n",
        "sns.set_theme()\n",
        "plt.hist(text_lengths, bins=50)\n",
        "pass"
      ],
      "metadata": {
        "execution": {
          "iopub.status.busy": "2022-03-13T20:51:25.674487Z",
          "iopub.execute_input": "2022-03-13T20:51:25.674743Z",
          "iopub.status.idle": "2022-03-13T20:51:26.591447Z",
          "shell.execute_reply.started": "2022-03-13T20:51:25.67471Z",
          "shell.execute_reply": "2022-03-13T20:51:26.590758Z"
        },
        "trusted": true,
        "id": "r-cos00vzdEt"
      },
      "execution_count": null,
      "outputs": []
    },
    {
      "cell_type": "code",
      "source": [
        "#scatter plot of predicted final score vs log text_length for validation set\n",
        "plt.scatter(np.log(text_lengths), scores_pred)"
      ],
      "metadata": {
        "execution": {
          "iopub.status.busy": "2022-03-13T02:48:57.634778Z",
          "iopub.execute_input": "2022-03-13T02:48:57.635558Z",
          "iopub.status.idle": "2022-03-13T02:48:57.889241Z",
          "shell.execute_reply.started": "2022-03-13T02:48:57.635518Z",
          "shell.execute_reply": "2022-03-13T02:48:57.888571Z"
        },
        "trusted": true,
        "id": "035or77gzdEt"
      },
      "execution_count": null,
      "outputs": []
    },
    {
      "cell_type": "code",
      "source": [
        "ls \"checkpoints/\""
      ],
      "metadata": {
        "execution": {
          "iopub.status.busy": "2022-03-27T23:05:12.966615Z",
          "iopub.execute_input": "2022-03-27T23:05:12.966938Z",
          "iopub.status.idle": "2022-03-27T23:05:13.654538Z",
          "shell.execute_reply.started": "2022-03-27T23:05:12.966854Z",
          "shell.execute_reply": "2022-03-27T23:05:13.653705Z"
        },
        "trusted": true,
        "id": "P6qMY9o_zdEt",
        "outputId": "349f1d6a-01a5-49f9-d78e-4a4704a73767"
      },
      "execution_count": null,
      "outputs": [
        {
          "name": "stdout",
          "text": "ls: cannot access 'checkpoints/': No such file or directory\n",
          "output_type": "stream"
        }
      ]
    },
    {
      "cell_type": "code",
      "source": [
        "cp checkpoints/* ."
      ],
      "metadata": {
        "execution": {
          "iopub.status.busy": "2022-03-27T23:12:40.471342Z",
          "iopub.execute_input": "2022-03-27T23:12:40.471825Z",
          "iopub.status.idle": "2022-03-27T23:12:41.214941Z",
          "shell.execute_reply.started": "2022-03-27T23:12:40.471785Z",
          "shell.execute_reply": "2022-03-27T23:12:41.213996Z"
        },
        "trusted": true,
        "id": "NWLB1MdGzdEu",
        "outputId": "5778715b-7f18-4e4d-b899-c6855b7d9510"
      },
      "execution_count": null,
      "outputs": [
        {
          "name": "stderr",
          "text": "W0327 23:12:59.387376 140537783666432 application.py:556] path /apple-touch-icon-precomposed.png not found, sending 404\nW0327 23:12:59.390093 140537792059136 application.py:556] path /apple-touch-icon.png not found, sending 404\nW0327 23:13:49.516059 140537294219008 application.py:556] path /apple-touch-icon.png not found, sending 404\nW0327 23:13:49.519417 140537808844544 application.py:556] path /apple-touch-icon-precomposed.png not found, sending 404\nW0327 23:13:51.255996 140537294219008 application.py:556] path /apple-touch-icon-precomposed.png not found, sending 404\nW0327 23:13:51.260597 140537800451840 application.py:556] path /apple-touch-icon.png not found, sending 404\n",
          "output_type": "stream"
        }
      ]
    },
    {
      "cell_type": "code",
      "source": [
        "rm -rf checkpoints/"
      ],
      "metadata": {
        "execution": {
          "iopub.status.busy": "2022-03-27T21:41:54.191202Z",
          "iopub.execute_input": "2022-03-27T21:41:54.193209Z",
          "iopub.status.idle": "2022-03-27T21:41:55.173591Z",
          "shell.execute_reply.started": "2022-03-27T21:41:54.193157Z",
          "shell.execute_reply": "2022-03-27T21:41:55.172517Z"
        },
        "trusted": true,
        "id": "V_GNzQTWzdEu"
      },
      "execution_count": null,
      "outputs": []
    },
    {
      "cell_type": "code",
      "source": [
        "cp lightning_logs/version_0/* ."
      ],
      "metadata": {
        "execution": {
          "iopub.status.busy": "2022-03-13T20:59:03.599993Z",
          "iopub.execute_input": "2022-03-13T20:59:03.600679Z",
          "iopub.status.idle": "2022-03-13T20:59:04.458663Z",
          "shell.execute_reply.started": "2022-03-13T20:59:03.600632Z",
          "shell.execute_reply": "2022-03-13T20:59:04.457714Z"
        },
        "trusted": true,
        "id": "k8sQRmptzdEu"
      },
      "execution_count": null,
      "outputs": []
    },
    {
      "cell_type": "code",
      "source": [
        "rm -rf lightning_logs/"
      ],
      "metadata": {
        "execution": {
          "iopub.status.busy": "2022-03-27T21:41:58.481743Z",
          "iopub.execute_input": "2022-03-27T21:41:58.482561Z",
          "iopub.status.idle": "2022-03-27T21:41:59.265768Z",
          "shell.execute_reply.started": "2022-03-27T21:41:58.482521Z",
          "shell.execute_reply": "2022-03-27T21:41:59.264751Z"
        },
        "trusted": true,
        "id": "POwkYnBEzdEu"
      },
      "execution_count": null,
      "outputs": []
    },
    {
      "cell_type": "code",
      "source": [
        "rm *"
      ],
      "metadata": {
        "execution": {
          "iopub.status.busy": "2022-03-27T21:42:17.343912Z",
          "iopub.execute_input": "2022-03-27T21:42:17.344453Z",
          "iopub.status.idle": "2022-03-27T21:42:18.177332Z",
          "shell.execute_reply.started": "2022-03-27T21:42:17.344413Z",
          "shell.execute_reply": "2022-03-27T21:42:18.176207Z"
        },
        "trusted": true,
        "id": "CoW43yFyzdEu"
      },
      "execution_count": null,
      "outputs": []
    },
    {
      "cell_type": "code",
      "source": [
        ""
      ],
      "metadata": {
        "id": "saJI0WlczdEu"
      },
      "execution_count": null,
      "outputs": []
    }
  ]
}