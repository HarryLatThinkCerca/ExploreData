{
  "metadata": {
    "kernelspec": {
      "language": "python",
      "display_name": "Python 3",
      "name": "python3"
    },
    "language_info": {
      "name": "python",
      "version": "3.7.12",
      "mimetype": "text/x-python",
      "codemirror_mode": {
        "name": "ipython",
        "version": 3
      },
      "pygments_lexer": "ipython3",
      "nbconvert_exporter": "python",
      "file_extension": ".py"
    },
    "colab": {
      "name": "metals-model1-regression.ipynb",
      "provenance": [],
      "include_colab_link": true
    }
  },
  "nbformat_minor": 0,
  "nbformat": 4,
  "cells": [
    {
      "cell_type": "markdown",
      "metadata": {
        "id": "view-in-github",
        "colab_type": "text"
      },
      "source": [
        "<a href=\"https://colab.research.google.com/github/HarryLatThinkCerca/ExploreData/blob/main/metals-model1-regression_jenny_march_21.ipynb\" target=\"_parent\"><img src=\"https://colab.research.google.com/assets/colab-badge.svg\" alt=\"Open In Colab\"/></a>"
      ]
    },
    {
      "cell_type": "markdown",
      "source": [
        "# Model1 Regression Version 5\n",
        "- updated on 3/21 by Jenny Song\n",
        "<br></br>\n",
        "- validation evaluation for each rurbic item at each epoch: \n",
        "    - confusion matrix \n",
        "    - agreement accuracy\n",
        "<br></br>\n",
        "- regression \n",
        "    - mse loss\n",
        "<br></br>\n",
        "- model:\n",
        "    - bert \n",
        "<br></br>\n",
        "- text features:\n",
        "    - text-length\n",
        " "
      ],
      "metadata": {
        "id": "jbvfh9UAzzGj"
      }
    },
    {
      "cell_type": "code",
      "source": [
        "# This Python 3 environment comes with many helpful analytics libraries installed\n",
        "# It is defined by the kaggle/python Docker image: https://github.com/kaggle/docker-python\n",
        "# For example, here's several helpful packages to load\n",
        "import numpy as np # linear algebra\n",
        "import pandas as pd # data processing, CSV file I/O (e.g. pd.read_csv)\n",
        "\n",
        "# Input data files are available in the read-only \"../input/\" directory\n",
        "# For example, running this (by clicking run or pressing Shift+Enter) will list all files under the input directory\n",
        "\n",
        "import os\n",
        "for dirname, _, filenames in os.walk('/kaggle/input/thinkcerca'):\n",
        "    for filename in filenames:\n",
        "        print(os.path.join(dirname, filename))\n",
        "\n",
        "# You can write up to 20GB to the current directory (/kaggle/working/) that gets preserved as output when you create a version using \"Save & Run All\" \n",
        "# You can also write temporary files to /kaggle/temp/, but they won't be saved outside of the current session"
      ],
      "metadata": {
        "_uuid": "8f2839f25d086af736a60e9eeb907d3b93b6e0e5",
        "_cell_guid": "b1076dfc-b9ad-4769-8c92-a6c4dae69d19",
        "execution": {
          "iopub.status.busy": "2022-03-21T05:53:05.347613Z",
          "iopub.execute_input": "2022-03-21T05:53:05.347851Z",
          "iopub.status.idle": "2022-03-21T05:53:05.383105Z",
          "shell.execute_reply.started": "2022-03-21T05:53:05.347781Z",
          "shell.execute_reply": "2022-03-21T05:53:05.382290Z"
        },
        "trusted": true,
        "id": "dD9l54LczzGm",
        "outputId": "f70d97c9-f85e-42a0-950e-5c74f557dcbd"
      },
      "execution_count": null,
      "outputs": [
        {
          "name": "stdout",
          "text": "/kaggle/input/thinkcerca/group_1_final_writing_for_lesson_26025.xlsx - Result 1.csv\n/kaggle/input/thinkcerca/Group_1_all_rubric_subscores_26025_14757_scores.xlsx - Result 1.csv\n",
          "output_type": "stream"
        }
      ]
    },
    {
      "cell_type": "code",
      "source": [
        "group1_final_writing = pd.read_csv('/kaggle/input/thinkcerca/group_1_final_writing_for_lesson_26025.xlsx - Result 1.csv',skipinitialspace=True)\n",
        "group1_rubric_score = pd.read_csv('/kaggle/input/thinkcerca/Group_1_all_rubric_subscores_26025_14757_scores.xlsx - Result 1.csv',skipinitialspace=True)\n",
        "                                   \n",
        "group1_final_writing = group1_final_writing[['sa_id','sr_final_writing']].dropna()\n",
        "group1_rubric_score = group1_rubric_score[['sa_id','a_rubric_id','rc_id','ai_score']].dropna()\n"
      ],
      "metadata": {
        "execution": {
          "iopub.status.busy": "2022-03-21T05:53:05.384571Z",
          "iopub.execute_input": "2022-03-21T05:53:05.384872Z",
          "iopub.status.idle": "2022-03-21T05:53:05.722908Z",
          "shell.execute_reply.started": "2022-03-21T05:53:05.384836Z",
          "shell.execute_reply": "2022-03-21T05:53:05.722210Z"
        },
        "trusted": true,
        "id": "tDDaVrE7zzGo"
      },
      "execution_count": null,
      "outputs": []
    },
    {
      "cell_type": "code",
      "source": [
        "# 0.15\trubric.categories.standard.first\tClaim (Central Idea)\n",
        "# 0.1\trubric.categories.standard.second\tReasons (Support for Central Idea)\n",
        "# 0.2\trubric.categories.standard.third\tEvidence (Facts and Details)\n",
        "# 0.2\trubric.categories.standard.fourth\tReasoning (Explanation & Analysis)\n",
        "# 0.25\trubric.categories.standard.fifth\tOrganization\n",
        "# 0.05\trubric.categories.standard.sixth\tAudience Appropriate Language (Style)\n",
        "# 0.05\trubric.categories.standard.seventh\tConventions Of English"
      ],
      "metadata": {
        "execution": {
          "iopub.status.busy": "2022-03-21T05:09:24.140577Z",
          "iopub.execute_input": "2022-03-21T05:09:24.140908Z",
          "iopub.status.idle": "2022-03-21T05:09:24.145007Z",
          "shell.execute_reply.started": "2022-03-21T05:09:24.140858Z",
          "shell.execute_reply": "2022-03-21T05:09:24.144227Z"
        },
        "trusted": true,
        "id": "J8mtshMwzzGo"
      },
      "execution_count": null,
      "outputs": []
    },
    {
      "cell_type": "code",
      "source": [
        "import collections \n",
        "import torch\n",
        "from torch import nn\n",
        "from torch.nn import functional as F\n",
        "from torch.utils.data import DataLoader\n",
        "from torch.utils.data import random_split\n",
        "from torchvision.datasets import MNIST\n",
        "from torchvision import transforms\n",
        "import pytorch_lightning as pl\n",
        "from transformers import BertTokenizer, BertModel\n",
        "from torchmetrics import ConfusionMatrix\n",
        "\n",
        "\n",
        "\n",
        "class WritingDataset(torch.utils.data.Dataset):\n",
        "    def __init__(self):\n",
        "        data = collections.defaultdict(dict)\n",
        "        rubric_weight = np.array([0.15, 0.1, 0.2, 0.2, 0.25, 0.05, 0.05])\n",
        "        for _,row in group1_final_writing.iterrows():\n",
        "            sa_id = row['sa_id']\n",
        "            data[sa_id]['final_writing'] = row['sr_final_writing']\n",
        "            data[sa_id]['scores'] = [-1]*8\n",
        "\n",
        "        for _,row in group1_rubric_score.iterrows():\n",
        "            sa_id = row['sa_id']\n",
        "            if(not sa_id in data):\n",
        "                continue\n",
        "            index = row['rc_id']-1143\n",
        "            data[sa_id]['scores'][index]=row['ai_score']\n",
        "\n",
        "        to_drop = []\n",
        "        for key, val in data.items():\n",
        "            score_cur = val['scores']\n",
        "            score_cur_array = np.array(score_cur)\n",
        "\n",
        "            score_cur[-1]=sum(rubric_weight*score_cur_array[:-1])\n",
        "            if -1 in score_cur:\n",
        "                to_drop.append(key)\n",
        "                continue\n",
        "\n",
        "        for k in to_drop:\n",
        "            del data[k]\n",
        "        self.data = [v for v in data.values()]\n",
        "        \n",
        "\n",
        "    def __len__(self):\n",
        "        return len(self.data)\n",
        "\n",
        "    def __getitem__(self, idx):\n",
        "        return self.data[idx]['final_writing'], torch.tensor(self.data[idx]['scores'])\n",
        "        "
      ],
      "metadata": {
        "execution": {
          "iopub.status.busy": "2022-03-21T05:53:05.725167Z",
          "iopub.execute_input": "2022-03-21T05:53:05.725693Z",
          "iopub.status.idle": "2022-03-21T05:53:09.310935Z",
          "shell.execute_reply.started": "2022-03-21T05:53:05.725654Z",
          "shell.execute_reply": "2022-03-21T05:53:09.309334Z"
        },
        "trusted": true,
        "id": "09KzOPDPzzGp"
      },
      "execution_count": null,
      "outputs": []
    },
    {
      "cell_type": "code",
      "source": [
        "import pandas as pd\n",
        "import seaborn as sns\n",
        "import matplotlib.pyplot as plt\n",
        "\n",
        "class Trainer(pl.LightningModule):\n",
        "    def __init__(self):\n",
        "        super().__init__()\n",
        "        self.regressor = nn.Sequential(\n",
        "              nn.Linear(768, 250),\n",
        "              nn.ReLU(),\n",
        "              nn.Linear(250, 8)\n",
        "        )\n",
        "        self.tokenizer = BertTokenizer.from_pretrained(\"bert-base-uncased\")\n",
        "        self.bert = BertModel.from_pretrained(\"bert-base-uncased\")\n",
        "        self.nlp = self.text_feature_extraction\n",
        "        \n",
        "    def text_feature_extraction(self, text):\n",
        "        with torch.no_grad():\n",
        "            inputs = self.tokenizer(text, return_tensors=\"pt\",padding=True,truncation=True,max_length=512)\n",
        "            for key in inputs:\n",
        "                inputs[key] = inputs[key].cuda()\n",
        "            outputs = self.bert(**inputs)\n",
        "            # outputs.last_hidden_state B x H x 768\n",
        "            return outputs.last_hidden_state.mean(dim=1) # B x 768\n",
        "        \n",
        "    def forward(self, text):\n",
        "        text_length = [len(t) for t in text] # B\n",
        "        text_feature = self.nlp(text) # B x 768\n",
        "#         return self.regressor(torch.cat([text_feature, torch.tensor(text_length).unsqueeze(-1).cuda()], dim=1))\n",
        "        return self.regressor(text_feature)\n",
        "\n",
        "    def configure_optimizers(self):\n",
        "        optimizer = torch.optim.Adam(self.parameters(), lr=1e-3)\n",
        "        return optimizer\n",
        "\n",
        "    \n",
        "    def training_step(self, train_batch, batch_idx):\n",
        "        sentence, scores = train_batch\n",
        "        prediction = self.forward(sentence)\n",
        "        loss = F.mse_loss(prediction, scores.float())\n",
        "#         l1_loss = F.l1_loss(prediction, scores.float())\n",
        "        \n",
        "        self.log('train_mse_loss', loss, batch_size=len(sentence))\n",
        "#         self.log('train_mae_loss', l1_loss, batch_size=len(sentence))\n",
        "        return loss\n",
        "\n",
        "    def validation_step(self, val_batch, batch_idx):\n",
        "        sentence, scores = val_batch\n",
        "        prediction = self.forward(sentence)\n",
        "        \n",
        "        loss = F.mse_loss(prediction, scores.float())\n",
        "        \n",
        "        scores_int = torch.round(scores).int()\n",
        "        prediction_int = torch.round(prediction).int()\n",
        "        \n",
        "        prediction_int[prediction_int<1]=0\n",
        "        prediction_int[prediction_int>5]=5\n",
        "        \n",
        "        \n",
        "        self.log('val_acc', (prediction_int[:,:-1] == scores_int[:,:-1]).float().mean(), batch_size=len(sentence))\n",
        "        \n",
        "        return {\"scores\": scores, \"pred\": prediction}\n",
        "    \n",
        "    def validation_epoch_end(self, validation_step_outputs):\n",
        "        scores_list = []\n",
        "        prediction_list = []\n",
        "        for step in validation_step_outputs:\n",
        "            s = step[\"scores\"]\n",
        "            scores_list.append(s)\n",
        "            p = step[\"pred\"]\n",
        "            prediction_list.append(p)\n",
        "        scores = torch.cat(scores_list)\n",
        "        prediction = torch.cat(prediction_list)\n",
        "      \n",
        "            \n",
        "        scores_int = torch.round(scores).int()\n",
        "        prediction_int = torch.round(prediction).int()\n",
        "        \n",
        "        prediction_int[prediction_int<1]=0\n",
        "        prediction_int[prediction_int>5]=5\n",
        "        \n",
        "        \n",
        "        for i in range(7):\n",
        "            confusion_matrix = ConfusionMatrix(num_classes=6)(prediction_int[:,i].cpu(), scores_int[:,i].cpu())\n",
        "#             print(f\"confusion matrix {i}\", confusion_matrix.numpy())\n",
        "            \n",
        "            df_cm = pd.DataFrame(confusion_matrix.numpy(), index = range(6), columns=range(6))\n",
        "            plt.figure(figsize = (10,7))\n",
        "            fig_ = sns.heatmap(df_cm, annot=True, cmap='Blues').get_figure()\n",
        "            plt.close(fig_)\n",
        "\n",
        "            self.logger.experiment.add_figure(f\"Confusion matrix {i}\", fig_, self.current_epoch)\n",
        "        \n",
        "        \n",
        "        acc_per_rubric_item = torch.mean((prediction_int == scores_int).float(), dim=0)\n",
        "        \n",
        "\n",
        "        \n",
        "        self.log('val_Claim_acc', acc_per_rubric_item[0])\n",
        "        self.log('val_Reasons_acc', acc_per_rubric_item[1])\n",
        "        self.log('val_Evidence_acc', acc_per_rubric_item[2])\n",
        "        self.log('val_Reasoning_acc', acc_per_rubric_item[3])\n",
        "        self.log('val_Organization_acc', acc_per_rubric_item[4])\n",
        "        self.log('val_Audience_acc', acc_per_rubric_item[5])\n",
        "\n",
        "#         self.log('val_English_acc', acc_per_rubric_item[6])\n",
        "        \n",
        "        \n",
        "#         l1_loss_per_rubric_item = torch.mean(abs(prediction - scores), dim=0)\n",
        "#         l2_loss_per_rubric_item = torch.mean((prediction - scores)**2, dim=0)\n",
        "\n",
        "        \n",
        "#         self.log('val_Claim_mae_loss', l1_loss_per_rubric_item[0])\n",
        "#         self.log('val_Reasons_mae_loss', l1_loss_per_rubric_item[1])\n",
        "#         self.log('val_Evidence_mae_loss', l1_loss_per_rubric_item[2])\n",
        "#         self.log('val_Reasoning_mae_loss', l1_loss_per_rubric_item[3])\n",
        "#         self.log('val_Organization_mae_loss', l1_loss_per_rubric_item[4])\n",
        "#         self.log('val_Audience_mae_loss', l1_loss_per_rubric_item[5])\n",
        "#         self.log('val_English_mae_loss', l1_loss_per_rubric_item[6])\n",
        "#         self.log('val_Overall_mae_loss', l1_loss_per_rubric_item[7])\n",
        "\n",
        "        "
      ],
      "metadata": {
        "execution": {
          "iopub.status.busy": "2022-03-21T05:53:21.507380Z",
          "iopub.execute_input": "2022-03-21T05:53:21.507644Z",
          "iopub.status.idle": "2022-03-21T05:53:22.534693Z",
          "shell.execute_reply.started": "2022-03-21T05:53:21.507614Z",
          "shell.execute_reply": "2022-03-21T05:53:22.533881Z"
        },
        "trusted": true,
        "id": "LY--Dcw7zzGq"
      },
      "execution_count": null,
      "outputs": []
    },
    {
      "cell_type": "code",
      "source": [
        "pl.utilities.seed.seed_everything(seed=1)\n",
        "        \n",
        "# data\n",
        "dataset = WritingDataset()\n",
        "mnist_train, mnist_val = random_split(dataset, [int(len(dataset)*0.8), len(dataset)-int(len(dataset)*0.8)])\n",
        "\n",
        "train_loader = DataLoader(mnist_train, batch_size=32, shuffle=True)\n",
        "val_loader = DataLoader(mnist_val, batch_size=64, shuffle=False)\n",
        "\n",
        "# model\n",
        "model = Trainer()\n",
        "\n",
        "checkpoint_callback = pl.callbacks.model_checkpoint.ModelCheckpoint(\n",
        "    monitor=\"val_acc\",\n",
        "    dirpath=\"checkpoints/\",\n",
        "    filename=\"cerca-rubric-agreement-acc-{epoch:02d}-{val_acc:.2f}\",\n",
        "    save_top_k=2,\n",
        "    mode=\"max\",\n",
        ")\n",
        "\n",
        "# training\n",
        "trainer = pl.Trainer(gpus=1, precision=16, max_epochs=20,callbacks=[checkpoint_callback])\n",
        "trainer.fit(model, train_loader, val_loader)\n",
        "    \n"
      ],
      "metadata": {
        "execution": {
          "iopub.status.busy": "2022-03-21T05:54:04.231655Z",
          "iopub.execute_input": "2022-03-21T05:54:04.232117Z",
          "iopub.status.idle": "2022-03-21T06:14:20.609575Z",
          "shell.execute_reply.started": "2022-03-21T05:54:04.232083Z",
          "shell.execute_reply": "2022-03-21T06:14:20.608839Z"
        },
        "trusted": true,
        "id": "VmynYQ9OzzGr",
        "outputId": "724327ea-1601-47ea-86c8-a237c93a5d73",
        "colab": {
          "referenced_widgets": [
            "f771c3b02f564140a71bfdfa65d428c5",
            "dfb73f25cf3c4d9a974c7c2382cd969d",
            "945e79ce2023485bba5c28da9156c8d0",
            "399f3059e0274fe48426eadc900c9a38",
            "313346350eb240f291d16d509b836280",
            "",
            "8884d80da3a346558dd0e04eba3140f9"
          ]
        }
      },
      "execution_count": null,
      "outputs": [
        {
          "output_type": "display_data",
          "data": {
            "text/plain": "Downloading:   0%|          | 0.00/226k [00:00<?, ?B/s]",
            "application/vnd.jupyter.widget-view+json": {
              "version_major": 2,
              "version_minor": 0,
              "model_id": "f771c3b02f564140a71bfdfa65d428c5"
            }
          },
          "metadata": {}
        },
        {
          "output_type": "display_data",
          "data": {
            "text/plain": "Downloading:   0%|          | 0.00/28.0 [00:00<?, ?B/s]",
            "application/vnd.jupyter.widget-view+json": {
              "version_major": 2,
              "version_minor": 0,
              "model_id": "dfb73f25cf3c4d9a974c7c2382cd969d"
            }
          },
          "metadata": {}
        },
        {
          "output_type": "display_data",
          "data": {
            "text/plain": "Downloading:   0%|          | 0.00/455k [00:00<?, ?B/s]",
            "application/vnd.jupyter.widget-view+json": {
              "version_major": 2,
              "version_minor": 0,
              "model_id": "945e79ce2023485bba5c28da9156c8d0"
            }
          },
          "metadata": {}
        },
        {
          "output_type": "display_data",
          "data": {
            "text/plain": "Downloading:   0%|          | 0.00/570 [00:00<?, ?B/s]",
            "application/vnd.jupyter.widget-view+json": {
              "version_major": 2,
              "version_minor": 0,
              "model_id": "399f3059e0274fe48426eadc900c9a38"
            }
          },
          "metadata": {}
        },
        {
          "output_type": "display_data",
          "data": {
            "text/plain": "Downloading:   0%|          | 0.00/420M [00:00<?, ?B/s]",
            "application/vnd.jupyter.widget-view+json": {
              "version_major": 2,
              "version_minor": 0,
              "model_id": "313346350eb240f291d16d509b836280"
            }
          },
          "metadata": {}
        },
        {
          "name": "stderr",
          "text": "Some weights of the model checkpoint at bert-base-uncased were not used when initializing BertModel: ['cls.predictions.bias', 'cls.predictions.transform.LayerNorm.weight', 'cls.predictions.transform.LayerNorm.bias', 'cls.predictions.transform.dense.bias', 'cls.seq_relationship.weight', 'cls.predictions.transform.dense.weight', 'cls.predictions.decoder.weight', 'cls.seq_relationship.bias']\n- This IS expected if you are initializing BertModel from the checkpoint of a model trained on another task or with another architecture (e.g. initializing a BertForSequenceClassification model from a BertForPreTraining model).\n- This IS NOT expected if you are initializing BertModel from the checkpoint of a model that you expect to be exactly identical (initializing a BertForSequenceClassification model from a BertForSequenceClassification model).\n",
          "output_type": "stream"
        },
        {
          "output_type": "display_data",
          "data": {
            "text/plain": "Validation sanity check: 0it [00:00, ?it/s]",
            "application/vnd.jupyter.widget-view+json": {
              "version_major": 2,
              "version_minor": 0,
              "model_id": ""
            }
          },
          "metadata": {}
        },
        {
          "name": "stderr",
          "text": "/opt/conda/lib/python3.7/site-packages/pytorch_lightning/trainer/data_loading.py:433: UserWarning: The number of training samples (49) is smaller than the logging interval Trainer(log_every_n_steps=50). Set a lower value for log_every_n_steps if you want to see logs for the training epoch.\n  f\"The number of training samples ({self.num_training_batches}) is smaller than the logging interval\"\n",
          "output_type": "stream"
        },
        {
          "output_type": "display_data",
          "data": {
            "text/plain": "Training: 0it [00:00, ?it/s]",
            "application/vnd.jupyter.widget-view+json": {
              "version_major": 2,
              "version_minor": 0,
              "model_id": "8884d80da3a346558dd0e04eba3140f9"
            }
          },
          "metadata": {}
        },
        {
          "output_type": "display_data",
          "data": {
            "text/plain": "Validating: 0it [00:00, ?it/s]",
            "application/vnd.jupyter.widget-view+json": {
              "version_major": 2,
              "version_minor": 0,
              "model_id": ""
            }
          },
          "metadata": {}
        },
        {
          "output_type": "display_data",
          "data": {
            "text/plain": "Validating: 0it [00:00, ?it/s]",
            "application/vnd.jupyter.widget-view+json": {
              "version_major": 2,
              "version_minor": 0,
              "model_id": ""
            }
          },
          "metadata": {}
        },
        {
          "output_type": "display_data",
          "data": {
            "text/plain": "Validating: 0it [00:00, ?it/s]",
            "application/vnd.jupyter.widget-view+json": {
              "version_major": 2,
              "version_minor": 0,
              "model_id": ""
            }
          },
          "metadata": {}
        },
        {
          "output_type": "display_data",
          "data": {
            "text/plain": "Validating: 0it [00:00, ?it/s]",
            "application/vnd.jupyter.widget-view+json": {
              "version_major": 2,
              "version_minor": 0,
              "model_id": ""
            }
          },
          "metadata": {}
        },
        {
          "output_type": "display_data",
          "data": {
            "text/plain": "Validating: 0it [00:00, ?it/s]",
            "application/vnd.jupyter.widget-view+json": {
              "version_major": 2,
              "version_minor": 0,
              "model_id": ""
            }
          },
          "metadata": {}
        },
        {
          "output_type": "display_data",
          "data": {
            "text/plain": "Validating: 0it [00:00, ?it/s]",
            "application/vnd.jupyter.widget-view+json": {
              "version_major": 2,
              "version_minor": 0,
              "model_id": ""
            }
          },
          "metadata": {}
        },
        {
          "output_type": "display_data",
          "data": {
            "text/plain": "Validating: 0it [00:00, ?it/s]",
            "application/vnd.jupyter.widget-view+json": {
              "version_major": 2,
              "version_minor": 0,
              "model_id": ""
            }
          },
          "metadata": {}
        },
        {
          "output_type": "display_data",
          "data": {
            "text/plain": "Validating: 0it [00:00, ?it/s]",
            "application/vnd.jupyter.widget-view+json": {
              "version_major": 2,
              "version_minor": 0,
              "model_id": ""
            }
          },
          "metadata": {}
        },
        {
          "output_type": "display_data",
          "data": {
            "text/plain": "Validating: 0it [00:00, ?it/s]",
            "application/vnd.jupyter.widget-view+json": {
              "version_major": 2,
              "version_minor": 0,
              "model_id": ""
            }
          },
          "metadata": {}
        },
        {
          "output_type": "display_data",
          "data": {
            "text/plain": "Validating: 0it [00:00, ?it/s]",
            "application/vnd.jupyter.widget-view+json": {
              "version_major": 2,
              "version_minor": 0,
              "model_id": ""
            }
          },
          "metadata": {}
        },
        {
          "output_type": "display_data",
          "data": {
            "text/plain": "Validating: 0it [00:00, ?it/s]",
            "application/vnd.jupyter.widget-view+json": {
              "version_major": 2,
              "version_minor": 0,
              "model_id": ""
            }
          },
          "metadata": {}
        },
        {
          "output_type": "display_data",
          "data": {
            "text/plain": "Validating: 0it [00:00, ?it/s]",
            "application/vnd.jupyter.widget-view+json": {
              "version_major": 2,
              "version_minor": 0,
              "model_id": ""
            }
          },
          "metadata": {}
        },
        {
          "output_type": "display_data",
          "data": {
            "text/plain": "Validating: 0it [00:00, ?it/s]",
            "application/vnd.jupyter.widget-view+json": {
              "version_major": 2,
              "version_minor": 0,
              "model_id": ""
            }
          },
          "metadata": {}
        },
        {
          "output_type": "display_data",
          "data": {
            "text/plain": "Validating: 0it [00:00, ?it/s]",
            "application/vnd.jupyter.widget-view+json": {
              "version_major": 2,
              "version_minor": 0,
              "model_id": ""
            }
          },
          "metadata": {}
        },
        {
          "output_type": "display_data",
          "data": {
            "text/plain": "Validating: 0it [00:00, ?it/s]",
            "application/vnd.jupyter.widget-view+json": {
              "version_major": 2,
              "version_minor": 0,
              "model_id": ""
            }
          },
          "metadata": {}
        },
        {
          "output_type": "display_data",
          "data": {
            "text/plain": "Validating: 0it [00:00, ?it/s]",
            "application/vnd.jupyter.widget-view+json": {
              "version_major": 2,
              "version_minor": 0,
              "model_id": ""
            }
          },
          "metadata": {}
        },
        {
          "output_type": "display_data",
          "data": {
            "text/plain": "Validating: 0it [00:00, ?it/s]",
            "application/vnd.jupyter.widget-view+json": {
              "version_major": 2,
              "version_minor": 0,
              "model_id": ""
            }
          },
          "metadata": {}
        },
        {
          "output_type": "display_data",
          "data": {
            "text/plain": "Validating: 0it [00:00, ?it/s]",
            "application/vnd.jupyter.widget-view+json": {
              "version_major": 2,
              "version_minor": 0,
              "model_id": ""
            }
          },
          "metadata": {}
        },
        {
          "output_type": "display_data",
          "data": {
            "text/plain": "Validating: 0it [00:00, ?it/s]",
            "application/vnd.jupyter.widget-view+json": {
              "version_major": 2,
              "version_minor": 0,
              "model_id": ""
            }
          },
          "metadata": {}
        },
        {
          "output_type": "display_data",
          "data": {
            "text/plain": "Validating: 0it [00:00, ?it/s]",
            "application/vnd.jupyter.widget-view+json": {
              "version_major": 2,
              "version_minor": 0,
              "model_id": ""
            }
          },
          "metadata": {}
        }
      ]
    },
    {
      "cell_type": "code",
      "source": [
        "#given a model and text, evlauate scores \n",
        "\n",
        "def score(text, model):\n",
        "    model = model.eval().cuda()\n",
        "    return model(text)\n"
      ],
      "metadata": {
        "execution": {
          "iopub.status.busy": "2022-03-13T20:48:52.202677Z",
          "iopub.execute_input": "2022-03-13T20:48:52.203412Z",
          "iopub.status.idle": "2022-03-13T20:48:52.208043Z",
          "shell.execute_reply.started": "2022-03-13T20:48:52.203372Z",
          "shell.execute_reply": "2022-03-13T20:48:52.207241Z"
        },
        "trusted": true,
        "id": "D8UcSON5zzGr"
      },
      "execution_count": null,
      "outputs": []
    },
    {
      "cell_type": "code",
      "source": [
        "i = 24\n",
        "t, s = mnist_val[i]\n",
        "print(t)\n",
        "print(s)"
      ],
      "metadata": {
        "execution": {
          "iopub.status.busy": "2022-03-18T16:30:11.678733Z",
          "iopub.execute_input": "2022-03-18T16:30:11.678991Z",
          "iopub.status.idle": "2022-03-18T16:30:11.712377Z",
          "shell.execute_reply.started": "2022-03-18T16:30:11.678962Z",
          "shell.execute_reply": "2022-03-18T16:30:11.71158Z"
        },
        "trusted": true,
        "id": "vmcbX8hIzzGs"
      },
      "execution_count": null,
      "outputs": []
    },
    {
      "cell_type": "code",
      "source": [
        "loaded_model = Trainer.load_from_checkpoint('checkpoints/cerca-rubric-with-textlength-epoch=17-val_mse_loss=0.77.ckpt')\n",
        "\n",
        "score([t], loaded_model)"
      ],
      "metadata": {
        "execution": {
          "iopub.status.busy": "2022-03-13T20:56:17.757102Z",
          "iopub.execute_input": "2022-03-13T20:56:17.75749Z",
          "iopub.status.idle": "2022-03-13T20:56:24.664566Z",
          "shell.execute_reply.started": "2022-03-13T20:56:17.757456Z",
          "shell.execute_reply": "2022-03-13T20:56:24.663787Z"
        },
        "trusted": true,
        "id": "-Rpp2VA9zzGs"
      },
      "execution_count": null,
      "outputs": []
    },
    {
      "cell_type": "code",
      "source": [
        "# trainer.save_checkpoint(\"model1_50e.ckpt\")\n",
        "# new_model = MyModel.load_from_checkpoint(checkpoint_path=\"example.ckpt\")"
      ],
      "metadata": {
        "execution": {
          "iopub.status.busy": "2022-03-13T19:17:08.148069Z",
          "iopub.execute_input": "2022-03-13T19:17:08.14835Z",
          "iopub.status.idle": "2022-03-13T19:17:08.153761Z",
          "shell.execute_reply.started": "2022-03-13T19:17:08.148299Z",
          "shell.execute_reply": "2022-03-13T19:17:08.15308Z"
        },
        "trusted": true,
        "id": "Ix7X94puzzGt"
      },
      "execution_count": null,
      "outputs": []
    },
    {
      "cell_type": "markdown",
      "source": [
        "# visualization"
      ],
      "metadata": {
        "id": "MWV8D4wmzzGt"
      }
    },
    {
      "cell_type": "code",
      "source": [
        "word_count, text_lengths, scores, scores_pred = [], [], [], []\n",
        "from tqdm.notebook import tqdm\n",
        "for t, s in tqdm(mnist_val):\n",
        "    text_lengths.append(len(t))\n",
        "    word_count.append(len(t.split()))\n",
        "    scores.append(s[-1].item())\n",
        "    scores_pred.append(score([t], loaded_model)[0][-1].item())"
      ],
      "metadata": {
        "execution": {
          "iopub.status.busy": "2022-03-13T20:51:12.115443Z",
          "iopub.execute_input": "2022-03-13T20:51:12.11576Z",
          "iopub.status.idle": "2022-03-13T20:51:22.779343Z",
          "shell.execute_reply.started": "2022-03-13T20:51:12.115727Z",
          "shell.execute_reply": "2022-03-13T20:51:22.778498Z"
        },
        "trusted": true,
        "id": "_yZxTHBHzzGt"
      },
      "execution_count": null,
      "outputs": []
    },
    {
      "cell_type": "code",
      "source": [
        "import matplotlib.pyplot as plt\n",
        "import seaborn as sns\n",
        "sns.set_theme()\n",
        "plt.hist(text_lengths, bins=50)\n",
        "pass"
      ],
      "metadata": {
        "execution": {
          "iopub.status.busy": "2022-03-13T20:51:25.674487Z",
          "iopub.execute_input": "2022-03-13T20:51:25.674743Z",
          "iopub.status.idle": "2022-03-13T20:51:26.591447Z",
          "shell.execute_reply.started": "2022-03-13T20:51:25.67471Z",
          "shell.execute_reply": "2022-03-13T20:51:26.590758Z"
        },
        "trusted": true,
        "id": "jxa-OnLvzzGt"
      },
      "execution_count": null,
      "outputs": []
    },
    {
      "cell_type": "code",
      "source": [
        "plt.hist(scores, bins=5)\n",
        "pass"
      ],
      "metadata": {
        "execution": {
          "iopub.status.busy": "2022-03-13T20:57:12.168618Z",
          "iopub.execute_input": "2022-03-13T20:57:12.168925Z",
          "iopub.status.idle": "2022-03-13T20:57:12.43454Z",
          "shell.execute_reply.started": "2022-03-13T20:57:12.168866Z",
          "shell.execute_reply": "2022-03-13T20:57:12.433777Z"
        },
        "trusted": true,
        "id": "Yw8m1m1YzzGu"
      },
      "execution_count": null,
      "outputs": []
    },
    {
      "cell_type": "code",
      "source": [
        "plt.hist(word_count, bins=50)\n",
        "pass"
      ],
      "metadata": {
        "execution": {
          "iopub.status.busy": "2022-03-13T20:51:32.626789Z",
          "iopub.execute_input": "2022-03-13T20:51:32.627339Z",
          "iopub.status.idle": "2022-03-13T20:51:32.978413Z",
          "shell.execute_reply.started": "2022-03-13T20:51:32.6273Z",
          "shell.execute_reply": "2022-03-13T20:51:32.977399Z"
        },
        "trusted": true,
        "id": "X1wzE4ugzzGu"
      },
      "execution_count": null,
      "outputs": []
    },
    {
      "cell_type": "code",
      "source": [
        "#scatter plot of final score vs log text_length for validation set\n",
        "plt.scatter(np.log(text_lengths), scores)"
      ],
      "metadata": {
        "execution": {
          "iopub.status.busy": "2022-03-13T02:48:53.972708Z",
          "iopub.execute_input": "2022-03-13T02:48:53.972985Z",
          "iopub.status.idle": "2022-03-13T02:48:54.263297Z",
          "shell.execute_reply.started": "2022-03-13T02:48:53.972954Z",
          "shell.execute_reply": "2022-03-13T02:48:54.262595Z"
        },
        "trusted": true,
        "id": "xQu8Z8XOzzGu"
      },
      "execution_count": null,
      "outputs": []
    },
    {
      "cell_type": "code",
      "source": [
        "#scatter plot of predicted final score vs log text_length for validation set\n",
        "plt.scatter(np.log(text_lengths), scores_pred)"
      ],
      "metadata": {
        "execution": {
          "iopub.status.busy": "2022-03-13T02:48:57.634778Z",
          "iopub.execute_input": "2022-03-13T02:48:57.635558Z",
          "iopub.status.idle": "2022-03-13T02:48:57.889241Z",
          "shell.execute_reply.started": "2022-03-13T02:48:57.635518Z",
          "shell.execute_reply": "2022-03-13T02:48:57.888571Z"
        },
        "trusted": true,
        "id": "KDNnDtjwzzGu"
      },
      "execution_count": null,
      "outputs": []
    },
    {
      "cell_type": "markdown",
      "source": [
        "# Ignore below"
      ],
      "metadata": {
        "id": "eBKEacSXzzGu"
      }
    },
    {
      "cell_type": "code",
      "source": [
        "ls \"checkpoints/\""
      ],
      "metadata": {
        "execution": {
          "iopub.status.busy": "2022-03-21T06:18:18.802888Z",
          "iopub.execute_input": "2022-03-21T06:18:18.803598Z",
          "iopub.status.idle": "2022-03-21T06:18:19.574258Z",
          "shell.execute_reply.started": "2022-03-21T06:18:18.803555Z",
          "shell.execute_reply": "2022-03-21T06:18:19.573320Z"
        },
        "trusted": true,
        "id": "SkQrQPJbzzGv",
        "outputId": "186f3268-a352-40a8-90d3-44b42ed986db"
      },
      "execution_count": null,
      "outputs": [
        {
          "name": "stdout",
          "text": "'cerca-rubric-agreement-acc-epoch=13-val_acc=0.40.ckpt'\n'cerca-rubric-agreement-acc-epoch=15-val_acc=0.41.ckpt'\n",
          "output_type": "stream"
        }
      ]
    },
    {
      "cell_type": "code",
      "source": [
        "ls \"lightning_logs\""
      ],
      "metadata": {
        "execution": {
          "iopub.status.busy": "2022-03-21T06:16:04.650816Z",
          "iopub.execute_input": "2022-03-21T06:16:04.651135Z",
          "iopub.status.idle": "2022-03-21T06:16:05.379438Z",
          "shell.execute_reply.started": "2022-03-21T06:16:04.651104Z",
          "shell.execute_reply": "2022-03-21T06:16:05.378634Z"
        },
        "trusted": true,
        "id": "gDsSu68hzzGv",
        "outputId": "75bfa5d5-e048-4c67-e8ce-a3250c8ac39f"
      },
      "execution_count": null,
      "outputs": [
        {
          "name": "stdout",
          "text": "\u001b[0m\u001b[01;34mversion_0\u001b[0m/\n",
          "output_type": "stream"
        }
      ]
    },
    {
      "cell_type": "code",
      "source": [
        "cp checkpoints/* ."
      ],
      "metadata": {
        "execution": {
          "iopub.status.busy": "2022-03-13T20:58:25.474174Z",
          "iopub.execute_input": "2022-03-13T20:58:25.474696Z",
          "iopub.status.idle": "2022-03-13T20:58:27.056965Z",
          "shell.execute_reply.started": "2022-03-13T20:58:25.474659Z",
          "shell.execute_reply": "2022-03-13T20:58:27.055796Z"
        },
        "trusted": true,
        "id": "tTAB17yjzzGv"
      },
      "execution_count": null,
      "outputs": []
    },
    {
      "cell_type": "code",
      "source": [
        "rm -rf checkpoints/"
      ],
      "metadata": {
        "execution": {
          "iopub.status.busy": "2022-03-13T20:06:30.943466Z",
          "iopub.execute_input": "2022-03-13T20:06:30.943731Z",
          "iopub.status.idle": "2022-03-13T20:06:31.850153Z",
          "shell.execute_reply.started": "2022-03-13T20:06:30.943702Z",
          "shell.execute_reply": "2022-03-13T20:06:31.849258Z"
        },
        "trusted": true,
        "id": "N0n9wIt3zzGv"
      },
      "execution_count": null,
      "outputs": []
    },
    {
      "cell_type": "code",
      "source": [
        "cp lightning_logs/version_0/* ."
      ],
      "metadata": {
        "execution": {
          "iopub.status.busy": "2022-03-21T06:16:10.579922Z",
          "iopub.execute_input": "2022-03-21T06:16:10.580608Z",
          "iopub.status.idle": "2022-03-21T06:16:11.317863Z",
          "shell.execute_reply.started": "2022-03-21T06:16:10.580567Z",
          "shell.execute_reply": "2022-03-21T06:16:11.316844Z"
        },
        "trusted": true,
        "id": "OWVtx-34zzGw"
      },
      "execution_count": null,
      "outputs": []
    },
    {
      "cell_type": "code",
      "source": [
        "rm -rf lightning_logs/"
      ],
      "metadata": {
        "execution": {
          "iopub.status.busy": "2022-03-18T05:17:38.94235Z",
          "iopub.execute_input": "2022-03-18T05:17:38.943091Z",
          "iopub.status.idle": "2022-03-18T05:17:39.684518Z",
          "shell.execute_reply.started": "2022-03-18T05:17:38.943053Z",
          "shell.execute_reply": "2022-03-18T05:17:39.683592Z"
        },
        "trusted": true,
        "id": "4JfCyD5hzzGw"
      },
      "execution_count": null,
      "outputs": []
    },
    {
      "cell_type": "code",
      "source": [
        "rm *"
      ],
      "metadata": {
        "execution": {
          "iopub.status.busy": "2022-03-13T02:56:32.835508Z",
          "iopub.execute_input": "2022-03-13T02:56:32.835789Z",
          "iopub.status.idle": "2022-03-13T02:56:33.772727Z",
          "shell.execute_reply.started": "2022-03-13T02:56:32.83576Z",
          "shell.execute_reply": "2022-03-13T02:56:33.771741Z"
        },
        "trusted": true,
        "id": "wMxLrD8UzzGw"
      },
      "execution_count": null,
      "outputs": []
    },
    {
      "cell_type": "code",
      "source": [
        ""
      ],
      "metadata": {
        "id": "w0B-GbzazzGw"
      },
      "execution_count": null,
      "outputs": []
    }
  ]
}